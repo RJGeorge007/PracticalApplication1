{
 "cells": [
  {
   "cell_type": "code",
   "execution_count": 4,
   "id": "8a3eee76",
   "metadata": {},
   "outputs": [],
   "source": [
    "import matplotlib.pyplot as plt\n",
    "import seaborn as sns\n",
    "import pandas as pd\n",
    "import numpy as np\n",
    "import plotly.express as px"
   ]
  },
  {
   "cell_type": "markdown",
   "id": "d8fa9b6a",
   "metadata": {},
   "source": [
    "# Decide the demographics that accept coupons"
   ]
  },
  {
   "cell_type": "code",
   "execution_count": 5,
   "id": "4f692b37",
   "metadata": {},
   "outputs": [],
   "source": [
    "data = pd.read_csv('C:/Users/ronny/coupons.csv')\n"
   ]
  },
  {
   "cell_type": "code",
   "execution_count": 6,
   "id": "034ba7fc",
   "metadata": {},
   "outputs": [
    {
     "name": "stdout",
     "output_type": "stream",
     "text": [
      "<class 'pandas.core.frame.DataFrame'>\n",
      "RangeIndex: 12684 entries, 0 to 12683\n",
      "Data columns (total 26 columns):\n",
      " #   Column                Non-Null Count  Dtype \n",
      "---  ------                --------------  ----- \n",
      " 0   destination           12684 non-null  object\n",
      " 1   passanger             12684 non-null  object\n",
      " 2   weather               12684 non-null  object\n",
      " 3   temperature           12684 non-null  int64 \n",
      " 4   time                  12684 non-null  object\n",
      " 5   coupon                12684 non-null  object\n",
      " 6   expiration            12684 non-null  object\n",
      " 7   gender                12684 non-null  object\n",
      " 8   age                   12684 non-null  object\n",
      " 9   maritalStatus         12684 non-null  object\n",
      " 10  has_children          12684 non-null  int64 \n",
      " 11  education             12684 non-null  object\n",
      " 12  occupation            12684 non-null  object\n",
      " 13  income                12684 non-null  object\n",
      " 14  car                   108 non-null    object\n",
      " 15  Bar                   12577 non-null  object\n",
      " 16  CoffeeHouse           12467 non-null  object\n",
      " 17  CarryAway             12533 non-null  object\n",
      " 18  RestaurantLessThan20  12554 non-null  object\n",
      " 19  Restaurant20To50      12495 non-null  object\n",
      " 20  toCoupon_GEQ5min      12684 non-null  int64 \n",
      " 21  toCoupon_GEQ15min     12684 non-null  int64 \n",
      " 22  toCoupon_GEQ25min     12684 non-null  int64 \n",
      " 23  direction_same        12684 non-null  int64 \n",
      " 24  direction_opp         12684 non-null  int64 \n",
      " 25  Y                     12684 non-null  int64 \n",
      "dtypes: int64(8), object(18)\n",
      "memory usage: 2.5+ MB\n"
     ]
    }
   ],
   "source": [
    "data.info()"
   ]
  },
  {
   "cell_type": "code",
   "execution_count": 7,
   "id": "c2fc2233",
   "metadata": {},
   "outputs": [
    {
     "data": {
      "text/html": [
       "<div>\n",
       "<style scoped>\n",
       "    .dataframe tbody tr th:only-of-type {\n",
       "        vertical-align: middle;\n",
       "    }\n",
       "\n",
       "    .dataframe tbody tr th {\n",
       "        vertical-align: top;\n",
       "    }\n",
       "\n",
       "    .dataframe thead th {\n",
       "        text-align: right;\n",
       "    }\n",
       "</style>\n",
       "<table border=\"1\" class=\"dataframe\">\n",
       "  <thead>\n",
       "    <tr style=\"text-align: right;\">\n",
       "      <th></th>\n",
       "      <th>destination</th>\n",
       "      <th>passanger</th>\n",
       "      <th>weather</th>\n",
       "      <th>temperature</th>\n",
       "      <th>time</th>\n",
       "      <th>coupon</th>\n",
       "      <th>expiration</th>\n",
       "      <th>gender</th>\n",
       "      <th>age</th>\n",
       "      <th>maritalStatus</th>\n",
       "      <th>...</th>\n",
       "      <th>CoffeeHouse</th>\n",
       "      <th>CarryAway</th>\n",
       "      <th>RestaurantLessThan20</th>\n",
       "      <th>Restaurant20To50</th>\n",
       "      <th>toCoupon_GEQ5min</th>\n",
       "      <th>toCoupon_GEQ15min</th>\n",
       "      <th>toCoupon_GEQ25min</th>\n",
       "      <th>direction_same</th>\n",
       "      <th>direction_opp</th>\n",
       "      <th>Y</th>\n",
       "    </tr>\n",
       "  </thead>\n",
       "  <tbody>\n",
       "    <tr>\n",
       "      <th>0</th>\n",
       "      <td>No Urgent Place</td>\n",
       "      <td>Alone</td>\n",
       "      <td>Sunny</td>\n",
       "      <td>55</td>\n",
       "      <td>2PM</td>\n",
       "      <td>Restaurant(&lt;20)</td>\n",
       "      <td>1d</td>\n",
       "      <td>Female</td>\n",
       "      <td>21</td>\n",
       "      <td>Unmarried partner</td>\n",
       "      <td>...</td>\n",
       "      <td>never</td>\n",
       "      <td>NaN</td>\n",
       "      <td>4~8</td>\n",
       "      <td>1~3</td>\n",
       "      <td>1</td>\n",
       "      <td>0</td>\n",
       "      <td>0</td>\n",
       "      <td>0</td>\n",
       "      <td>1</td>\n",
       "      <td>1</td>\n",
       "    </tr>\n",
       "    <tr>\n",
       "      <th>1</th>\n",
       "      <td>No Urgent Place</td>\n",
       "      <td>Friend(s)</td>\n",
       "      <td>Sunny</td>\n",
       "      <td>80</td>\n",
       "      <td>10AM</td>\n",
       "      <td>Coffee House</td>\n",
       "      <td>2h</td>\n",
       "      <td>Female</td>\n",
       "      <td>21</td>\n",
       "      <td>Unmarried partner</td>\n",
       "      <td>...</td>\n",
       "      <td>never</td>\n",
       "      <td>NaN</td>\n",
       "      <td>4~8</td>\n",
       "      <td>1~3</td>\n",
       "      <td>1</td>\n",
       "      <td>0</td>\n",
       "      <td>0</td>\n",
       "      <td>0</td>\n",
       "      <td>1</td>\n",
       "      <td>0</td>\n",
       "    </tr>\n",
       "    <tr>\n",
       "      <th>2</th>\n",
       "      <td>No Urgent Place</td>\n",
       "      <td>Friend(s)</td>\n",
       "      <td>Sunny</td>\n",
       "      <td>80</td>\n",
       "      <td>10AM</td>\n",
       "      <td>Carry out &amp; Take away</td>\n",
       "      <td>2h</td>\n",
       "      <td>Female</td>\n",
       "      <td>21</td>\n",
       "      <td>Unmarried partner</td>\n",
       "      <td>...</td>\n",
       "      <td>never</td>\n",
       "      <td>NaN</td>\n",
       "      <td>4~8</td>\n",
       "      <td>1~3</td>\n",
       "      <td>1</td>\n",
       "      <td>1</td>\n",
       "      <td>0</td>\n",
       "      <td>0</td>\n",
       "      <td>1</td>\n",
       "      <td>1</td>\n",
       "    </tr>\n",
       "    <tr>\n",
       "      <th>3</th>\n",
       "      <td>No Urgent Place</td>\n",
       "      <td>Friend(s)</td>\n",
       "      <td>Sunny</td>\n",
       "      <td>80</td>\n",
       "      <td>2PM</td>\n",
       "      <td>Coffee House</td>\n",
       "      <td>2h</td>\n",
       "      <td>Female</td>\n",
       "      <td>21</td>\n",
       "      <td>Unmarried partner</td>\n",
       "      <td>...</td>\n",
       "      <td>never</td>\n",
       "      <td>NaN</td>\n",
       "      <td>4~8</td>\n",
       "      <td>1~3</td>\n",
       "      <td>1</td>\n",
       "      <td>1</td>\n",
       "      <td>0</td>\n",
       "      <td>0</td>\n",
       "      <td>1</td>\n",
       "      <td>0</td>\n",
       "    </tr>\n",
       "    <tr>\n",
       "      <th>4</th>\n",
       "      <td>No Urgent Place</td>\n",
       "      <td>Friend(s)</td>\n",
       "      <td>Sunny</td>\n",
       "      <td>80</td>\n",
       "      <td>2PM</td>\n",
       "      <td>Coffee House</td>\n",
       "      <td>1d</td>\n",
       "      <td>Female</td>\n",
       "      <td>21</td>\n",
       "      <td>Unmarried partner</td>\n",
       "      <td>...</td>\n",
       "      <td>never</td>\n",
       "      <td>NaN</td>\n",
       "      <td>4~8</td>\n",
       "      <td>1~3</td>\n",
       "      <td>1</td>\n",
       "      <td>1</td>\n",
       "      <td>0</td>\n",
       "      <td>0</td>\n",
       "      <td>1</td>\n",
       "      <td>0</td>\n",
       "    </tr>\n",
       "  </tbody>\n",
       "</table>\n",
       "<p>5 rows × 26 columns</p>\n",
       "</div>"
      ],
      "text/plain": [
       "       destination  passanger weather  temperature  time  \\\n",
       "0  No Urgent Place      Alone   Sunny           55   2PM   \n",
       "1  No Urgent Place  Friend(s)   Sunny           80  10AM   \n",
       "2  No Urgent Place  Friend(s)   Sunny           80  10AM   \n",
       "3  No Urgent Place  Friend(s)   Sunny           80   2PM   \n",
       "4  No Urgent Place  Friend(s)   Sunny           80   2PM   \n",
       "\n",
       "                  coupon expiration  gender age      maritalStatus  ...  \\\n",
       "0        Restaurant(<20)         1d  Female  21  Unmarried partner  ...   \n",
       "1           Coffee House         2h  Female  21  Unmarried partner  ...   \n",
       "2  Carry out & Take away         2h  Female  21  Unmarried partner  ...   \n",
       "3           Coffee House         2h  Female  21  Unmarried partner  ...   \n",
       "4           Coffee House         1d  Female  21  Unmarried partner  ...   \n",
       "\n",
       "   CoffeeHouse CarryAway RestaurantLessThan20 Restaurant20To50  \\\n",
       "0        never       NaN                  4~8              1~3   \n",
       "1        never       NaN                  4~8              1~3   \n",
       "2        never       NaN                  4~8              1~3   \n",
       "3        never       NaN                  4~8              1~3   \n",
       "4        never       NaN                  4~8              1~3   \n",
       "\n",
       "  toCoupon_GEQ5min toCoupon_GEQ15min toCoupon_GEQ25min direction_same  \\\n",
       "0                1                 0                 0              0   \n",
       "1                1                 0                 0              0   \n",
       "2                1                 1                 0              0   \n",
       "3                1                 1                 0              0   \n",
       "4                1                 1                 0              0   \n",
       "\n",
       "  direction_opp  Y  \n",
       "0             1  1  \n",
       "1             1  0  \n",
       "2             1  1  \n",
       "3             1  0  \n",
       "4             1  0  \n",
       "\n",
       "[5 rows x 26 columns]"
      ]
     },
     "execution_count": 7,
     "metadata": {},
     "output_type": "execute_result"
    }
   ],
   "source": [
    "data.head()"
   ]
  },
  {
   "cell_type": "code",
   "execution_count": 8,
   "id": "fcc0813f",
   "metadata": {},
   "outputs": [
    {
     "data": {
      "text/html": [
       "<div>\n",
       "<style scoped>\n",
       "    .dataframe tbody tr th:only-of-type {\n",
       "        vertical-align: middle;\n",
       "    }\n",
       "\n",
       "    .dataframe tbody tr th {\n",
       "        vertical-align: top;\n",
       "    }\n",
       "\n",
       "    .dataframe thead th {\n",
       "        text-align: right;\n",
       "    }\n",
       "</style>\n",
       "<table border=\"1\" class=\"dataframe\">\n",
       "  <thead>\n",
       "    <tr style=\"text-align: right;\">\n",
       "      <th></th>\n",
       "      <th>destination</th>\n",
       "      <th>passanger</th>\n",
       "      <th>weather</th>\n",
       "      <th>temperature</th>\n",
       "      <th>time</th>\n",
       "      <th>coupon</th>\n",
       "      <th>expiration</th>\n",
       "      <th>gender</th>\n",
       "      <th>age</th>\n",
       "      <th>maritalStatus</th>\n",
       "      <th>...</th>\n",
       "      <th>CoffeeHouse</th>\n",
       "      <th>CarryAway</th>\n",
       "      <th>RestaurantLessThan20</th>\n",
       "      <th>Restaurant20To50</th>\n",
       "      <th>toCoupon_GEQ5min</th>\n",
       "      <th>toCoupon_GEQ15min</th>\n",
       "      <th>toCoupon_GEQ25min</th>\n",
       "      <th>direction_same</th>\n",
       "      <th>direction_opp</th>\n",
       "      <th>Y</th>\n",
       "    </tr>\n",
       "  </thead>\n",
       "  <tbody>\n",
       "    <tr>\n",
       "      <th>12679</th>\n",
       "      <td>Home</td>\n",
       "      <td>Partner</td>\n",
       "      <td>Rainy</td>\n",
       "      <td>55</td>\n",
       "      <td>6PM</td>\n",
       "      <td>Carry out &amp; Take away</td>\n",
       "      <td>1d</td>\n",
       "      <td>Male</td>\n",
       "      <td>26</td>\n",
       "      <td>Single</td>\n",
       "      <td>...</td>\n",
       "      <td>never</td>\n",
       "      <td>1~3</td>\n",
       "      <td>4~8</td>\n",
       "      <td>1~3</td>\n",
       "      <td>1</td>\n",
       "      <td>0</td>\n",
       "      <td>0</td>\n",
       "      <td>1</td>\n",
       "      <td>0</td>\n",
       "      <td>1</td>\n",
       "    </tr>\n",
       "    <tr>\n",
       "      <th>12680</th>\n",
       "      <td>Work</td>\n",
       "      <td>Alone</td>\n",
       "      <td>Rainy</td>\n",
       "      <td>55</td>\n",
       "      <td>7AM</td>\n",
       "      <td>Carry out &amp; Take away</td>\n",
       "      <td>1d</td>\n",
       "      <td>Male</td>\n",
       "      <td>26</td>\n",
       "      <td>Single</td>\n",
       "      <td>...</td>\n",
       "      <td>never</td>\n",
       "      <td>1~3</td>\n",
       "      <td>4~8</td>\n",
       "      <td>1~3</td>\n",
       "      <td>1</td>\n",
       "      <td>0</td>\n",
       "      <td>0</td>\n",
       "      <td>0</td>\n",
       "      <td>1</td>\n",
       "      <td>1</td>\n",
       "    </tr>\n",
       "    <tr>\n",
       "      <th>12681</th>\n",
       "      <td>Work</td>\n",
       "      <td>Alone</td>\n",
       "      <td>Snowy</td>\n",
       "      <td>30</td>\n",
       "      <td>7AM</td>\n",
       "      <td>Coffee House</td>\n",
       "      <td>1d</td>\n",
       "      <td>Male</td>\n",
       "      <td>26</td>\n",
       "      <td>Single</td>\n",
       "      <td>...</td>\n",
       "      <td>never</td>\n",
       "      <td>1~3</td>\n",
       "      <td>4~8</td>\n",
       "      <td>1~3</td>\n",
       "      <td>1</td>\n",
       "      <td>0</td>\n",
       "      <td>0</td>\n",
       "      <td>1</td>\n",
       "      <td>0</td>\n",
       "      <td>0</td>\n",
       "    </tr>\n",
       "    <tr>\n",
       "      <th>12682</th>\n",
       "      <td>Work</td>\n",
       "      <td>Alone</td>\n",
       "      <td>Snowy</td>\n",
       "      <td>30</td>\n",
       "      <td>7AM</td>\n",
       "      <td>Bar</td>\n",
       "      <td>1d</td>\n",
       "      <td>Male</td>\n",
       "      <td>26</td>\n",
       "      <td>Single</td>\n",
       "      <td>...</td>\n",
       "      <td>never</td>\n",
       "      <td>1~3</td>\n",
       "      <td>4~8</td>\n",
       "      <td>1~3</td>\n",
       "      <td>1</td>\n",
       "      <td>1</td>\n",
       "      <td>1</td>\n",
       "      <td>0</td>\n",
       "      <td>1</td>\n",
       "      <td>0</td>\n",
       "    </tr>\n",
       "    <tr>\n",
       "      <th>12683</th>\n",
       "      <td>Work</td>\n",
       "      <td>Alone</td>\n",
       "      <td>Sunny</td>\n",
       "      <td>80</td>\n",
       "      <td>7AM</td>\n",
       "      <td>Restaurant(20-50)</td>\n",
       "      <td>2h</td>\n",
       "      <td>Male</td>\n",
       "      <td>26</td>\n",
       "      <td>Single</td>\n",
       "      <td>...</td>\n",
       "      <td>never</td>\n",
       "      <td>1~3</td>\n",
       "      <td>4~8</td>\n",
       "      <td>1~3</td>\n",
       "      <td>1</td>\n",
       "      <td>0</td>\n",
       "      <td>0</td>\n",
       "      <td>1</td>\n",
       "      <td>0</td>\n",
       "      <td>0</td>\n",
       "    </tr>\n",
       "  </tbody>\n",
       "</table>\n",
       "<p>5 rows × 26 columns</p>\n",
       "</div>"
      ],
      "text/plain": [
       "      destination passanger weather  temperature time                 coupon  \\\n",
       "12679        Home   Partner   Rainy           55  6PM  Carry out & Take away   \n",
       "12680        Work     Alone   Rainy           55  7AM  Carry out & Take away   \n",
       "12681        Work     Alone   Snowy           30  7AM           Coffee House   \n",
       "12682        Work     Alone   Snowy           30  7AM                    Bar   \n",
       "12683        Work     Alone   Sunny           80  7AM      Restaurant(20-50)   \n",
       "\n",
       "      expiration gender age maritalStatus  ...  CoffeeHouse CarryAway  \\\n",
       "12679         1d   Male  26        Single  ...        never       1~3   \n",
       "12680         1d   Male  26        Single  ...        never       1~3   \n",
       "12681         1d   Male  26        Single  ...        never       1~3   \n",
       "12682         1d   Male  26        Single  ...        never       1~3   \n",
       "12683         2h   Male  26        Single  ...        never       1~3   \n",
       "\n",
       "      RestaurantLessThan20 Restaurant20To50 toCoupon_GEQ5min  \\\n",
       "12679                  4~8              1~3                1   \n",
       "12680                  4~8              1~3                1   \n",
       "12681                  4~8              1~3                1   \n",
       "12682                  4~8              1~3                1   \n",
       "12683                  4~8              1~3                1   \n",
       "\n",
       "      toCoupon_GEQ15min toCoupon_GEQ25min direction_same direction_opp  Y  \n",
       "12679                 0                 0              1             0  1  \n",
       "12680                 0                 0              0             1  1  \n",
       "12681                 0                 0              1             0  0  \n",
       "12682                 1                 1              0             1  0  \n",
       "12683                 0                 0              1             0  0  \n",
       "\n",
       "[5 rows x 26 columns]"
      ]
     },
     "execution_count": 8,
     "metadata": {},
     "output_type": "execute_result"
    }
   ],
   "source": [
    "data.tail()"
   ]
  },
  {
   "cell_type": "code",
   "execution_count": 9,
   "id": "e3459d5c",
   "metadata": {},
   "outputs": [
    {
     "data": {
      "text/html": [
       "<div>\n",
       "<style scoped>\n",
       "    .dataframe tbody tr th:only-of-type {\n",
       "        vertical-align: middle;\n",
       "    }\n",
       "\n",
       "    .dataframe tbody tr th {\n",
       "        vertical-align: top;\n",
       "    }\n",
       "\n",
       "    .dataframe thead th {\n",
       "        text-align: right;\n",
       "    }\n",
       "</style>\n",
       "<table border=\"1\" class=\"dataframe\">\n",
       "  <thead>\n",
       "    <tr style=\"text-align: right;\">\n",
       "      <th></th>\n",
       "      <th>destination</th>\n",
       "      <th>passanger</th>\n",
       "      <th>weather</th>\n",
       "      <th>temperature</th>\n",
       "      <th>time</th>\n",
       "      <th>coupon</th>\n",
       "      <th>expiration</th>\n",
       "      <th>gender</th>\n",
       "      <th>age</th>\n",
       "      <th>maritalStatus</th>\n",
       "      <th>...</th>\n",
       "      <th>CoffeeHouse</th>\n",
       "      <th>CarryAway</th>\n",
       "      <th>RestaurantLessThan20</th>\n",
       "      <th>Restaurant20To50</th>\n",
       "      <th>toCoupon_GEQ5min</th>\n",
       "      <th>toCoupon_GEQ15min</th>\n",
       "      <th>toCoupon_GEQ25min</th>\n",
       "      <th>direction_same</th>\n",
       "      <th>direction_opp</th>\n",
       "      <th>Y</th>\n",
       "    </tr>\n",
       "  </thead>\n",
       "  <tbody>\n",
       "    <tr>\n",
       "      <th>0</th>\n",
       "      <td>No Urgent Place</td>\n",
       "      <td>Alone</td>\n",
       "      <td>Sunny</td>\n",
       "      <td>55</td>\n",
       "      <td>2PM</td>\n",
       "      <td>Restaurant(&lt;20)</td>\n",
       "      <td>1d</td>\n",
       "      <td>Female</td>\n",
       "      <td>21</td>\n",
       "      <td>Unmarried partner</td>\n",
       "      <td>...</td>\n",
       "      <td>never</td>\n",
       "      <td>NaN</td>\n",
       "      <td>4~8</td>\n",
       "      <td>1~3</td>\n",
       "      <td>1</td>\n",
       "      <td>0</td>\n",
       "      <td>0</td>\n",
       "      <td>0</td>\n",
       "      <td>1</td>\n",
       "      <td>1</td>\n",
       "    </tr>\n",
       "    <tr>\n",
       "      <th>1</th>\n",
       "      <td>No Urgent Place</td>\n",
       "      <td>Friend(s)</td>\n",
       "      <td>Sunny</td>\n",
       "      <td>80</td>\n",
       "      <td>10AM</td>\n",
       "      <td>Coffee House</td>\n",
       "      <td>2h</td>\n",
       "      <td>Female</td>\n",
       "      <td>21</td>\n",
       "      <td>Unmarried partner</td>\n",
       "      <td>...</td>\n",
       "      <td>never</td>\n",
       "      <td>NaN</td>\n",
       "      <td>4~8</td>\n",
       "      <td>1~3</td>\n",
       "      <td>1</td>\n",
       "      <td>0</td>\n",
       "      <td>0</td>\n",
       "      <td>0</td>\n",
       "      <td>1</td>\n",
       "      <td>0</td>\n",
       "    </tr>\n",
       "    <tr>\n",
       "      <th>2</th>\n",
       "      <td>No Urgent Place</td>\n",
       "      <td>Friend(s)</td>\n",
       "      <td>Sunny</td>\n",
       "      <td>80</td>\n",
       "      <td>10AM</td>\n",
       "      <td>Carry out &amp; Take away</td>\n",
       "      <td>2h</td>\n",
       "      <td>Female</td>\n",
       "      <td>21</td>\n",
       "      <td>Unmarried partner</td>\n",
       "      <td>...</td>\n",
       "      <td>never</td>\n",
       "      <td>NaN</td>\n",
       "      <td>4~8</td>\n",
       "      <td>1~3</td>\n",
       "      <td>1</td>\n",
       "      <td>1</td>\n",
       "      <td>0</td>\n",
       "      <td>0</td>\n",
       "      <td>1</td>\n",
       "      <td>1</td>\n",
       "    </tr>\n",
       "    <tr>\n",
       "      <th>3</th>\n",
       "      <td>No Urgent Place</td>\n",
       "      <td>Friend(s)</td>\n",
       "      <td>Sunny</td>\n",
       "      <td>80</td>\n",
       "      <td>2PM</td>\n",
       "      <td>Coffee House</td>\n",
       "      <td>2h</td>\n",
       "      <td>Female</td>\n",
       "      <td>21</td>\n",
       "      <td>Unmarried partner</td>\n",
       "      <td>...</td>\n",
       "      <td>never</td>\n",
       "      <td>NaN</td>\n",
       "      <td>4~8</td>\n",
       "      <td>1~3</td>\n",
       "      <td>1</td>\n",
       "      <td>1</td>\n",
       "      <td>0</td>\n",
       "      <td>0</td>\n",
       "      <td>1</td>\n",
       "      <td>0</td>\n",
       "    </tr>\n",
       "    <tr>\n",
       "      <th>4</th>\n",
       "      <td>No Urgent Place</td>\n",
       "      <td>Friend(s)</td>\n",
       "      <td>Sunny</td>\n",
       "      <td>80</td>\n",
       "      <td>2PM</td>\n",
       "      <td>Coffee House</td>\n",
       "      <td>1d</td>\n",
       "      <td>Female</td>\n",
       "      <td>21</td>\n",
       "      <td>Unmarried partner</td>\n",
       "      <td>...</td>\n",
       "      <td>never</td>\n",
       "      <td>NaN</td>\n",
       "      <td>4~8</td>\n",
       "      <td>1~3</td>\n",
       "      <td>1</td>\n",
       "      <td>1</td>\n",
       "      <td>0</td>\n",
       "      <td>0</td>\n",
       "      <td>1</td>\n",
       "      <td>0</td>\n",
       "    </tr>\n",
       "    <tr>\n",
       "      <th>...</th>\n",
       "      <td>...</td>\n",
       "      <td>...</td>\n",
       "      <td>...</td>\n",
       "      <td>...</td>\n",
       "      <td>...</td>\n",
       "      <td>...</td>\n",
       "      <td>...</td>\n",
       "      <td>...</td>\n",
       "      <td>...</td>\n",
       "      <td>...</td>\n",
       "      <td>...</td>\n",
       "      <td>...</td>\n",
       "      <td>...</td>\n",
       "      <td>...</td>\n",
       "      <td>...</td>\n",
       "      <td>...</td>\n",
       "      <td>...</td>\n",
       "      <td>...</td>\n",
       "      <td>...</td>\n",
       "      <td>...</td>\n",
       "      <td>...</td>\n",
       "    </tr>\n",
       "    <tr>\n",
       "      <th>12679</th>\n",
       "      <td>Home</td>\n",
       "      <td>Partner</td>\n",
       "      <td>Rainy</td>\n",
       "      <td>55</td>\n",
       "      <td>6PM</td>\n",
       "      <td>Carry out &amp; Take away</td>\n",
       "      <td>1d</td>\n",
       "      <td>Male</td>\n",
       "      <td>26</td>\n",
       "      <td>Single</td>\n",
       "      <td>...</td>\n",
       "      <td>never</td>\n",
       "      <td>1~3</td>\n",
       "      <td>4~8</td>\n",
       "      <td>1~3</td>\n",
       "      <td>1</td>\n",
       "      <td>0</td>\n",
       "      <td>0</td>\n",
       "      <td>1</td>\n",
       "      <td>0</td>\n",
       "      <td>1</td>\n",
       "    </tr>\n",
       "    <tr>\n",
       "      <th>12680</th>\n",
       "      <td>Work</td>\n",
       "      <td>Alone</td>\n",
       "      <td>Rainy</td>\n",
       "      <td>55</td>\n",
       "      <td>7AM</td>\n",
       "      <td>Carry out &amp; Take away</td>\n",
       "      <td>1d</td>\n",
       "      <td>Male</td>\n",
       "      <td>26</td>\n",
       "      <td>Single</td>\n",
       "      <td>...</td>\n",
       "      <td>never</td>\n",
       "      <td>1~3</td>\n",
       "      <td>4~8</td>\n",
       "      <td>1~3</td>\n",
       "      <td>1</td>\n",
       "      <td>0</td>\n",
       "      <td>0</td>\n",
       "      <td>0</td>\n",
       "      <td>1</td>\n",
       "      <td>1</td>\n",
       "    </tr>\n",
       "    <tr>\n",
       "      <th>12681</th>\n",
       "      <td>Work</td>\n",
       "      <td>Alone</td>\n",
       "      <td>Snowy</td>\n",
       "      <td>30</td>\n",
       "      <td>7AM</td>\n",
       "      <td>Coffee House</td>\n",
       "      <td>1d</td>\n",
       "      <td>Male</td>\n",
       "      <td>26</td>\n",
       "      <td>Single</td>\n",
       "      <td>...</td>\n",
       "      <td>never</td>\n",
       "      <td>1~3</td>\n",
       "      <td>4~8</td>\n",
       "      <td>1~3</td>\n",
       "      <td>1</td>\n",
       "      <td>0</td>\n",
       "      <td>0</td>\n",
       "      <td>1</td>\n",
       "      <td>0</td>\n",
       "      <td>0</td>\n",
       "    </tr>\n",
       "    <tr>\n",
       "      <th>12682</th>\n",
       "      <td>Work</td>\n",
       "      <td>Alone</td>\n",
       "      <td>Snowy</td>\n",
       "      <td>30</td>\n",
       "      <td>7AM</td>\n",
       "      <td>Bar</td>\n",
       "      <td>1d</td>\n",
       "      <td>Male</td>\n",
       "      <td>26</td>\n",
       "      <td>Single</td>\n",
       "      <td>...</td>\n",
       "      <td>never</td>\n",
       "      <td>1~3</td>\n",
       "      <td>4~8</td>\n",
       "      <td>1~3</td>\n",
       "      <td>1</td>\n",
       "      <td>1</td>\n",
       "      <td>1</td>\n",
       "      <td>0</td>\n",
       "      <td>1</td>\n",
       "      <td>0</td>\n",
       "    </tr>\n",
       "    <tr>\n",
       "      <th>12683</th>\n",
       "      <td>Work</td>\n",
       "      <td>Alone</td>\n",
       "      <td>Sunny</td>\n",
       "      <td>80</td>\n",
       "      <td>7AM</td>\n",
       "      <td>Restaurant(20-50)</td>\n",
       "      <td>2h</td>\n",
       "      <td>Male</td>\n",
       "      <td>26</td>\n",
       "      <td>Single</td>\n",
       "      <td>...</td>\n",
       "      <td>never</td>\n",
       "      <td>1~3</td>\n",
       "      <td>4~8</td>\n",
       "      <td>1~3</td>\n",
       "      <td>1</td>\n",
       "      <td>0</td>\n",
       "      <td>0</td>\n",
       "      <td>1</td>\n",
       "      <td>0</td>\n",
       "      <td>0</td>\n",
       "    </tr>\n",
       "  </tbody>\n",
       "</table>\n",
       "<p>12684 rows × 26 columns</p>\n",
       "</div>"
      ],
      "text/plain": [
       "           destination  passanger weather  temperature  time  \\\n",
       "0      No Urgent Place      Alone   Sunny           55   2PM   \n",
       "1      No Urgent Place  Friend(s)   Sunny           80  10AM   \n",
       "2      No Urgent Place  Friend(s)   Sunny           80  10AM   \n",
       "3      No Urgent Place  Friend(s)   Sunny           80   2PM   \n",
       "4      No Urgent Place  Friend(s)   Sunny           80   2PM   \n",
       "...                ...        ...     ...          ...   ...   \n",
       "12679             Home    Partner   Rainy           55   6PM   \n",
       "12680             Work      Alone   Rainy           55   7AM   \n",
       "12681             Work      Alone   Snowy           30   7AM   \n",
       "12682             Work      Alone   Snowy           30   7AM   \n",
       "12683             Work      Alone   Sunny           80   7AM   \n",
       "\n",
       "                      coupon expiration  gender age      maritalStatus  ...  \\\n",
       "0            Restaurant(<20)         1d  Female  21  Unmarried partner  ...   \n",
       "1               Coffee House         2h  Female  21  Unmarried partner  ...   \n",
       "2      Carry out & Take away         2h  Female  21  Unmarried partner  ...   \n",
       "3               Coffee House         2h  Female  21  Unmarried partner  ...   \n",
       "4               Coffee House         1d  Female  21  Unmarried partner  ...   \n",
       "...                      ...        ...     ...  ..                ...  ...   \n",
       "12679  Carry out & Take away         1d    Male  26             Single  ...   \n",
       "12680  Carry out & Take away         1d    Male  26             Single  ...   \n",
       "12681           Coffee House         1d    Male  26             Single  ...   \n",
       "12682                    Bar         1d    Male  26             Single  ...   \n",
       "12683      Restaurant(20-50)         2h    Male  26             Single  ...   \n",
       "\n",
       "       CoffeeHouse CarryAway RestaurantLessThan20 Restaurant20To50  \\\n",
       "0            never       NaN                  4~8              1~3   \n",
       "1            never       NaN                  4~8              1~3   \n",
       "2            never       NaN                  4~8              1~3   \n",
       "3            never       NaN                  4~8              1~3   \n",
       "4            never       NaN                  4~8              1~3   \n",
       "...            ...       ...                  ...              ...   \n",
       "12679        never       1~3                  4~8              1~3   \n",
       "12680        never       1~3                  4~8              1~3   \n",
       "12681        never       1~3                  4~8              1~3   \n",
       "12682        never       1~3                  4~8              1~3   \n",
       "12683        never       1~3                  4~8              1~3   \n",
       "\n",
       "      toCoupon_GEQ5min toCoupon_GEQ15min toCoupon_GEQ25min direction_same  \\\n",
       "0                    1                 0                 0              0   \n",
       "1                    1                 0                 0              0   \n",
       "2                    1                 1                 0              0   \n",
       "3                    1                 1                 0              0   \n",
       "4                    1                 1                 0              0   \n",
       "...                ...               ...               ...            ...   \n",
       "12679                1                 0                 0              1   \n",
       "12680                1                 0                 0              0   \n",
       "12681                1                 0                 0              1   \n",
       "12682                1                 1                 1              0   \n",
       "12683                1                 0                 0              1   \n",
       "\n",
       "      direction_opp  Y  \n",
       "0                 1  1  \n",
       "1                 1  0  \n",
       "2                 1  1  \n",
       "3                 1  0  \n",
       "4                 1  0  \n",
       "...             ... ..  \n",
       "12679             0  1  \n",
       "12680             1  1  \n",
       "12681             0  0  \n",
       "12682             1  0  \n",
       "12683             0  0  \n",
       "\n",
       "[12684 rows x 26 columns]"
      ]
     },
     "execution_count": 9,
     "metadata": {},
     "output_type": "execute_result"
    }
   ],
   "source": [
    "data"
   ]
  },
  {
   "cell_type": "code",
   "execution_count": 16,
   "id": "671e24f8",
   "metadata": {},
   "outputs": [
    {
     "name": "stdout",
     "output_type": "stream",
     "text": [
      "[nan 'Scooter and motorcycle' 'crossover' 'Mazda5' 'do not drive'\n",
      " 'Car that is too old to install Onstar :D']\n"
     ]
    }
   ],
   "source": [
    "print(data['car'].unique())"
   ]
  },
  {
   "cell_type": "markdown",
   "id": "a536061b",
   "metadata": {},
   "source": [
    "<blockquote>\n",
    "\n",
    "We see that the Column car has only 108 values populated out of 12684 and \n",
    "we can drop this column and create a new data frame\n",
    "\n",
    "</blockquote>"
   ]
  },
  {
   "cell_type": "code",
   "execution_count": 17,
   "id": "21e9ae46",
   "metadata": {},
   "outputs": [],
   "source": [
    "df1 = data.drop(columns=['car'])"
   ]
  },
  {
   "cell_type": "code",
   "execution_count": 18,
   "id": "25b3e426",
   "metadata": {},
   "outputs": [
    {
     "name": "stdout",
     "output_type": "stream",
     "text": [
      "<class 'pandas.core.frame.DataFrame'>\n",
      "RangeIndex: 12684 entries, 0 to 12683\n",
      "Data columns (total 25 columns):\n",
      " #   Column                Non-Null Count  Dtype \n",
      "---  ------                --------------  ----- \n",
      " 0   destination           12684 non-null  object\n",
      " 1   passanger             12684 non-null  object\n",
      " 2   weather               12684 non-null  object\n",
      " 3   temperature           12684 non-null  int64 \n",
      " 4   time                  12684 non-null  object\n",
      " 5   coupon                12684 non-null  object\n",
      " 6   expiration            12684 non-null  object\n",
      " 7   gender                12684 non-null  object\n",
      " 8   age                   12684 non-null  object\n",
      " 9   maritalStatus         12684 non-null  object\n",
      " 10  has_children          12684 non-null  int64 \n",
      " 11  education             12684 non-null  object\n",
      " 12  occupation            12684 non-null  object\n",
      " 13  income                12684 non-null  object\n",
      " 14  Bar                   12577 non-null  object\n",
      " 15  CoffeeHouse           12467 non-null  object\n",
      " 16  CarryAway             12533 non-null  object\n",
      " 17  RestaurantLessThan20  12554 non-null  object\n",
      " 18  Restaurant20To50      12495 non-null  object\n",
      " 19  toCoupon_GEQ5min      12684 non-null  int64 \n",
      " 20  toCoupon_GEQ15min     12684 non-null  int64 \n",
      " 21  toCoupon_GEQ25min     12684 non-null  int64 \n",
      " 22  direction_same        12684 non-null  int64 \n",
      " 23  direction_opp         12684 non-null  int64 \n",
      " 24  Y                     12684 non-null  int64 \n",
      "dtypes: int64(8), object(17)\n",
      "memory usage: 2.4+ MB\n"
     ]
    }
   ],
   "source": [
    "df1.info()"
   ]
  },
  {
   "cell_type": "markdown",
   "id": "5f824470",
   "metadata": {},
   "source": [
    "<blockquote> Now we see that only 200 values max are missing across all columns with \n",
    "#Coffee House column being the worst with 217 missing values. So we will try to next find unique values within each column\n",
    "</blockquote>"
   ]
  },
  {
   "cell_type": "code",
   "execution_count": 19,
   "id": "06b52dff",
   "metadata": {},
   "outputs": [
    {
     "name": "stdout",
     "output_type": "stream",
     "text": [
      "['No Urgent Place' 'Home' 'Work']\n",
      "['Alone' 'Friend(s)' 'Kid(s)' 'Partner']\n",
      "['Sunny' 'Rainy' 'Snowy']\n",
      "[55 80 30]\n",
      "['2PM' '10AM' '6PM' '7AM' '10PM']\n",
      "['Restaurant(<20)' 'Coffee House' 'Carry out & Take away' 'Bar'\n",
      " 'Restaurant(20-50)']\n",
      "['1d' '2h']\n",
      "['Female' 'Male']\n",
      "['21' '46' '26' '31' '41' '50plus' '36' 'below21']\n",
      "['Unmarried partner' 'Single' 'Married partner' 'Divorced' 'Widowed']\n",
      "[1 0]\n",
      "['Some college - no degree' 'Bachelors degree' 'Associates degree'\n",
      " 'High School Graduate' 'Graduate degree (Masters or Doctorate)'\n",
      " 'Some High School']\n",
      "['Unemployed' 'Architecture & Engineering' 'Student'\n",
      " 'Education&Training&Library' 'Healthcare Support'\n",
      " 'Healthcare Practitioners & Technical' 'Sales & Related' 'Management'\n",
      " 'Arts Design Entertainment Sports & Media' 'Computer & Mathematical'\n",
      " 'Life Physical Social Science' 'Personal Care & Service'\n",
      " 'Community & Social Services' 'Office & Administrative Support'\n",
      " 'Construction & Extraction' 'Legal' 'Retired'\n",
      " 'Installation Maintenance & Repair' 'Transportation & Material Moving'\n",
      " 'Business & Financial' 'Protective Service'\n",
      " 'Food Preparation & Serving Related' 'Production Occupations'\n",
      " 'Building & Grounds Cleaning & Maintenance' 'Farming Fishing & Forestry']\n",
      "['$37500 - $49999' '$62500 - $74999' '$12500 - $24999' '$75000 - $87499'\n",
      " '$50000 - $62499' '$25000 - $37499' '$100000 or More' '$87500 - $99999'\n",
      " 'Less than $12500']\n",
      "['never' 'less1' '1~3' 'gt8' nan '4~8']\n",
      "['never' 'less1' '4~8' '1~3' 'gt8' nan]\n",
      "[nan '4~8' '1~3' 'gt8' 'less1' 'never']\n",
      "['4~8' '1~3' 'less1' 'gt8' nan 'never']\n",
      "['1~3' 'less1' 'never' 'gt8' '4~8' nan]\n",
      "[1]\n",
      "[0 1]\n",
      "[0 1]\n",
      "[0 1]\n",
      "[1 0]\n",
      "[1 0]\n"
     ]
    }
   ],
   "source": [
    "#Exploring the unique values within each column\n",
    "for col in df1:\n",
    "  print(df1[col].unique())"
   ]
  },
  {
   "cell_type": "code",
   "execution_count": 20,
   "id": "519fd748",
   "metadata": {},
   "outputs": [
    {
     "data": {
      "text/plain": [
       "array([1], dtype=int64)"
      ]
     },
     "execution_count": 20,
     "metadata": {},
     "output_type": "execute_result"
    }
   ],
   "source": [
    "df1.toCoupon_GEQ5min.unique()"
   ]
  },
  {
   "cell_type": "code",
   "execution_count": 21,
   "id": "a166c7d4",
   "metadata": {},
   "outputs": [],
   "source": [
    "# We will drop this column as the same value of 1 is repeated across all 12684 rows. So it has no bearing on any analysis\n",
    "df2 = df1.drop(columns=['toCoupon_GEQ5min'])"
   ]
  },
  {
   "cell_type": "code",
   "execution_count": 22,
   "id": "941e6e74",
   "metadata": {
    "scrolled": true
   },
   "outputs": [
    {
     "name": "stdout",
     "output_type": "stream",
     "text": [
      "<class 'pandas.core.frame.DataFrame'>\n",
      "RangeIndex: 12684 entries, 0 to 12683\n",
      "Data columns (total 24 columns):\n",
      " #   Column                Non-Null Count  Dtype \n",
      "---  ------                --------------  ----- \n",
      " 0   destination           12684 non-null  object\n",
      " 1   passanger             12684 non-null  object\n",
      " 2   weather               12684 non-null  object\n",
      " 3   temperature           12684 non-null  int64 \n",
      " 4   time                  12684 non-null  object\n",
      " 5   coupon                12684 non-null  object\n",
      " 6   expiration            12684 non-null  object\n",
      " 7   gender                12684 non-null  object\n",
      " 8   age                   12684 non-null  object\n",
      " 9   maritalStatus         12684 non-null  object\n",
      " 10  has_children          12684 non-null  int64 \n",
      " 11  education             12684 non-null  object\n",
      " 12  occupation            12684 non-null  object\n",
      " 13  income                12684 non-null  object\n",
      " 14  Bar                   12577 non-null  object\n",
      " 15  CoffeeHouse           12467 non-null  object\n",
      " 16  CarryAway             12533 non-null  object\n",
      " 17  RestaurantLessThan20  12554 non-null  object\n",
      " 18  Restaurant20To50      12495 non-null  object\n",
      " 19  toCoupon_GEQ15min     12684 non-null  int64 \n",
      " 20  toCoupon_GEQ25min     12684 non-null  int64 \n",
      " 21  direction_same        12684 non-null  int64 \n",
      " 22  direction_opp         12684 non-null  int64 \n",
      " 23  Y                     12684 non-null  int64 \n",
      "dtypes: int64(7), object(17)\n",
      "memory usage: 2.3+ MB\n"
     ]
    }
   ],
   "source": [
    "df2.info()"
   ]
  },
  {
   "cell_type": "code",
   "execution_count": 23,
   "id": "c39b91e7",
   "metadata": {},
   "outputs": [],
   "source": [
    "# We will rename the passenger column as it has a typo\n",
    "dfrenamed = df2.rename(columns={'passanger': 'passenger'})"
   ]
  },
  {
   "cell_type": "code",
   "execution_count": 24,
   "id": "2feddda7",
   "metadata": {},
   "outputs": [
    {
     "name": "stdout",
     "output_type": "stream",
     "text": [
      "<class 'pandas.core.frame.DataFrame'>\n",
      "RangeIndex: 12684 entries, 0 to 12683\n",
      "Data columns (total 24 columns):\n",
      " #   Column                Non-Null Count  Dtype \n",
      "---  ------                --------------  ----- \n",
      " 0   destination           12684 non-null  object\n",
      " 1   passenger             12684 non-null  object\n",
      " 2   weather               12684 non-null  object\n",
      " 3   temperature           12684 non-null  int64 \n",
      " 4   time                  12684 non-null  object\n",
      " 5   coupon                12684 non-null  object\n",
      " 6   expiration            12684 non-null  object\n",
      " 7   gender                12684 non-null  object\n",
      " 8   age                   12684 non-null  object\n",
      " 9   maritalStatus         12684 non-null  object\n",
      " 10  has_children          12684 non-null  int64 \n",
      " 11  education             12684 non-null  object\n",
      " 12  occupation            12684 non-null  object\n",
      " 13  income                12684 non-null  object\n",
      " 14  Bar                   12577 non-null  object\n",
      " 15  CoffeeHouse           12467 non-null  object\n",
      " 16  CarryAway             12533 non-null  object\n",
      " 17  RestaurantLessThan20  12554 non-null  object\n",
      " 18  Restaurant20To50      12495 non-null  object\n",
      " 19  toCoupon_GEQ15min     12684 non-null  int64 \n",
      " 20  toCoupon_GEQ25min     12684 non-null  int64 \n",
      " 21  direction_same        12684 non-null  int64 \n",
      " 22  direction_opp         12684 non-null  int64 \n",
      " 23  Y                     12684 non-null  int64 \n",
      "dtypes: int64(7), object(17)\n",
      "memory usage: 2.3+ MB\n"
     ]
    }
   ],
   "source": [
    "dfrenamed.info()"
   ]
  },
  {
   "cell_type": "code",
   "execution_count": 25,
   "id": "b90563f4",
   "metadata": {
    "scrolled": true
   },
   "outputs": [
    {
     "name": "stdout",
     "output_type": "stream",
     "text": [
      "['No Urgent Place' 'Home' 'Work']\n",
      "['Alone' 'Friend(s)' 'Kid(s)' 'Partner']\n",
      "['Sunny' 'Rainy' 'Snowy']\n",
      "[55 80 30]\n",
      "['2PM' '10AM' '6PM' '7AM' '10PM']\n",
      "['Restaurant(<20)' 'Coffee House' 'Carry out & Take away' 'Bar'\n",
      " 'Restaurant(20-50)']\n",
      "['1d' '2h']\n",
      "['Female' 'Male']\n",
      "['21' '46' '26' '31' '41' '50plus' '36' 'below21']\n",
      "['Unmarried partner' 'Single' 'Married partner' 'Divorced' 'Widowed']\n",
      "[1 0]\n",
      "['Some college - no degree' 'Bachelors degree' 'Associates degree'\n",
      " 'High School Graduate' 'Graduate degree (Masters or Doctorate)'\n",
      " 'Some High School']\n",
      "['Unemployed' 'Architecture & Engineering' 'Student'\n",
      " 'Education&Training&Library' 'Healthcare Support'\n",
      " 'Healthcare Practitioners & Technical' 'Sales & Related' 'Management'\n",
      " 'Arts Design Entertainment Sports & Media' 'Computer & Mathematical'\n",
      " 'Life Physical Social Science' 'Personal Care & Service'\n",
      " 'Community & Social Services' 'Office & Administrative Support'\n",
      " 'Construction & Extraction' 'Legal' 'Retired'\n",
      " 'Installation Maintenance & Repair' 'Transportation & Material Moving'\n",
      " 'Business & Financial' 'Protective Service'\n",
      " 'Food Preparation & Serving Related' 'Production Occupations'\n",
      " 'Building & Grounds Cleaning & Maintenance' 'Farming Fishing & Forestry']\n",
      "['$37500 - $49999' '$62500 - $74999' '$12500 - $24999' '$75000 - $87499'\n",
      " '$50000 - $62499' '$25000 - $37499' '$100000 or More' '$87500 - $99999'\n",
      " 'Less than $12500']\n",
      "['never' 'less1' '1~3' 'gt8' nan '4~8']\n",
      "['never' 'less1' '4~8' '1~3' 'gt8' nan]\n",
      "[nan '4~8' '1~3' 'gt8' 'less1' 'never']\n",
      "['4~8' '1~3' 'less1' 'gt8' nan 'never']\n",
      "['1~3' 'less1' 'never' 'gt8' '4~8' nan]\n",
      "[0 1]\n",
      "[0 1]\n",
      "[0 1]\n",
      "[1 0]\n",
      "[1 0]\n"
     ]
    }
   ],
   "source": [
    "#Exploring the unique values within each column\n",
    "for col in dfrenamed:\n",
    "  print(dfrenamed[col].unique())"
   ]
  },
  {
   "cell_type": "code",
   "execution_count": 26,
   "id": "a3f12424",
   "metadata": {},
   "outputs": [],
   "source": [
    "#What proportion of the total observations chose to accept the coupon\n",
    "coupon_accept = (dfrenamed['Y'].value_counts(normalize=True)\n",
    "                .mul(100)\n",
    "                .rename_axis('Y')\n",
    "                .reset_index(name='percentage'))"
   ]
  },
  {
   "cell_type": "code",
   "execution_count": 27,
   "id": "783cad13",
   "metadata": {},
   "outputs": [
    {
     "name": "stdout",
     "output_type": "stream",
     "text": [
      "   Y  percentage\n",
      "0  1   56.843267\n",
      "1  0   43.156733\n"
     ]
    }
   ],
   "source": [
    "print(coupon_accept)"
   ]
  },
  {
   "cell_type": "markdown",
   "id": "5558ac77",
   "metadata": {},
   "source": [
    "# 57% of the total observations accepted the coupon\n"
   ]
  },
  {
   "cell_type": "code",
   "execution_count": 31,
   "id": "2ea3df5a",
   "metadata": {},
   "outputs": [
    {
     "data": {
      "image/png": "[encoded data removed]",
      "text/plain": [
       "<Figure size 1500x600 with 1 Axes>"
      ]
     },
     "metadata": {},
     "output_type": "display_data"
    }
   ],
   "source": [
    "fig = sns.countplot(data =dfrenamed,x=\"coupon\")\n",
    "sns.set(rc = {'figure.figsize':(15,6)})\n",
    "plt.xlabel(\"Type of Coupons\", fontsize= 20)\n",
    "plt.ylabel(\"Count\", fontsize= 15)\n",
    "plt.title(\"Coupon Totals\", fontsize= 20)\n",
    "fig.set_xticklabels(fig.get_xticklabels(), rotation=30 , fontsize = 12)\n",
    "plt.show()"
   ]
  },
  {
   "cell_type": "code",
   "execution_count": 32,
   "id": "a00294a3",
   "metadata": {},
   "outputs": [
    {
     "data": {
      "image/png": "[encoded data removed]",
      "text/plain": [
       "<Figure size 1500x600 with 1 Axes>"
      ]
     },
     "metadata": {},
     "output_type": "display_data"
    }
   ],
   "source": [
    "fig = sns.countplot(data =dfrenamed,x=\"coupon\", hue ='Y')\n",
    "sns.set(rc = {'figure.figsize':(15,6)})\n",
    "plt.xlabel(\"Type of Coupons\", fontsize= 15)\n",
    "plt.ylabel(\"Count\", fontsize= 15)\n",
    "plt.title(\"Coupon Totals\", fontsize= 20)\n",
    "plt.show()"
   ]
  },
  {
   "cell_type": "code",
   "execution_count": 33,
   "id": "7b67e5a8",
   "metadata": {},
   "outputs": [
    {
     "data": {
      "text/plain": [
       "Text(0.5, 1.0, 'Coupon Distribution by Temperature')"
      ]
     },
     "execution_count": 33,
     "metadata": {},
     "output_type": "execute_result"
    },
    {
     "data": {
      "image/png": "[encoded data removed]",
      "text/plain": [
       "<Figure size 1500x600 with 1 Axes>"
      ]
     },
     "metadata": {},
     "output_type": "display_data"
    }
   ],
   "source": [
    "# Use a histogram to visualize the temperature column\n",
    "plt.hist(dfrenamed['temperature'],color=\"blue\",alpha=0.5,edgecolor = \"black\")\n",
    "plt.xlabel(\"Temperature\", fontsize =15)\n",
    "plt.ylabel(\"Count\", fontsize =15)\n",
    "plt.title(\"Coupon Distribution by Temperature\", fontsize= 20)\n",
    "#plt.savefig('Temperature.png')"
   ]
  },
  {
   "cell_type": "markdown",
   "id": "37350a9a",
   "metadata": {},
   "source": [
    "<blockquote>\n",
    "The data suggests that as the temperature increased, more coupons were offered. \n",
    "This is logical as people are more likely to be driving and out and about when the weather is warmer.\n",
    "</blockquote>"
   ]
  },
  {
   "cell_type": "markdown",
   "id": "00506f69",
   "metadata": {},
   "source": [
    "# Investigation of Bar Coupons"
   ]
  },
  {
   "cell_type": "code",
   "execution_count": 35,
   "id": "4101ef18",
   "metadata": {},
   "outputs": [],
   "source": [
    "#Create a new DataFrame that contains just the bar coupons.\n",
    "barcoupons_only = dfrenamed[dfrenamed[\"coupon\"] == \"Bar\"]"
   ]
  },
  {
   "cell_type": "code",
   "execution_count": 36,
   "id": "c3361a64",
   "metadata": {},
   "outputs": [
    {
     "name": "stdout",
     "output_type": "stream",
     "text": [
      "<class 'pandas.core.frame.DataFrame'>\n",
      "Int64Index: 2017 entries, 9 to 12682\n",
      "Data columns (total 24 columns):\n",
      " #   Column                Non-Null Count  Dtype \n",
      "---  ------                --------------  ----- \n",
      " 0   destination           2017 non-null   object\n",
      " 1   passenger             2017 non-null   object\n",
      " 2   weather               2017 non-null   object\n",
      " 3   temperature           2017 non-null   int64 \n",
      " 4   time                  2017 non-null   object\n",
      " 5   coupon                2017 non-null   object\n",
      " 6   expiration            2017 non-null   object\n",
      " 7   gender                2017 non-null   object\n",
      " 8   age                   2017 non-null   object\n",
      " 9   maritalStatus         2017 non-null   object\n",
      " 10  has_children          2017 non-null   int64 \n",
      " 11  education             2017 non-null   object\n",
      " 12  occupation            2017 non-null   object\n",
      " 13  income                2017 non-null   object\n",
      " 14  Bar                   1996 non-null   object\n",
      " 15  CoffeeHouse           1978 non-null   object\n",
      " 16  CarryAway             1993 non-null   object\n",
      " 17  RestaurantLessThan20  1994 non-null   object\n",
      " 18  Restaurant20To50      1981 non-null   object\n",
      " 19  toCoupon_GEQ15min     2017 non-null   int64 \n",
      " 20  toCoupon_GEQ25min     2017 non-null   int64 \n",
      " 21  direction_same        2017 non-null   int64 \n",
      " 22  direction_opp         2017 non-null   int64 \n",
      " 23  Y                     2017 non-null   int64 \n",
      "dtypes: int64(7), object(17)\n",
      "memory usage: 393.9+ KB\n"
     ]
    }
   ],
   "source": [
    "barcoupons_only.info()"
   ]
  },
  {
   "cell_type": "code",
   "execution_count": 37,
   "id": "fa847437",
   "metadata": {},
   "outputs": [
    {
     "name": "stdout",
     "output_type": "stream",
     "text": [
      "   Y  percentage\n",
      "0  0   58.998513\n",
      "1  1   41.001487\n"
     ]
    }
   ],
   "source": [
    "#What proportion of the bar coupons were accepted\n",
    "barcoupon_accept = (barcoupons_only['Y'].value_counts(normalize=True)\n",
    "                .mul(100)\n",
    "                .rename_axis('Y')\n",
    "                .reset_index(name='percentage'))\n",
    "print(barcoupon_accept)"
   ]
  },
  {
   "cell_type": "markdown",
   "id": "48556626",
   "metadata": {},
   "source": [
    "## 59% of the bar coupons were accepted"
   ]
  },
  {
   "cell_type": "markdown",
   "id": "8dbd7a40",
   "metadata": {},
   "source": [
    "### Compare the acceptance rate between those who went to a bar 3 or fewer times a month to those who went more.\n"
   ]
  },
  {
   "cell_type": "code",
   "execution_count": 38,
   "id": "f7c551a3",
   "metadata": {},
   "outputs": [],
   "source": [
    "barunder3 = barcoupons_only.query('(Bar== \"1~3\") or (Bar==\"less1\") or (Bar==\"never\")')"
   ]
  },
  {
   "cell_type": "code",
   "execution_count": 39,
   "id": "307745fb",
   "metadata": {},
   "outputs": [
    {
     "name": "stdout",
     "output_type": "stream",
     "text": [
      "<class 'pandas.core.frame.DataFrame'>\n",
      "Int64Index: 1797 entries, 9 to 12682\n",
      "Data columns (total 24 columns):\n",
      " #   Column                Non-Null Count  Dtype \n",
      "---  ------                --------------  ----- \n",
      " 0   destination           1797 non-null   object\n",
      " 1   passenger             1797 non-null   object\n",
      " 2   weather               1797 non-null   object\n",
      " 3   temperature           1797 non-null   int64 \n",
      " 4   time                  1797 non-null   object\n",
      " 5   coupon                1797 non-null   object\n",
      " 6   expiration            1797 non-null   object\n",
      " 7   gender                1797 non-null   object\n",
      " 8   age                   1797 non-null   object\n",
      " 9   maritalStatus         1797 non-null   object\n",
      " 10  has_children          1797 non-null   int64 \n",
      " 11  education             1797 non-null   object\n",
      " 12  occupation            1797 non-null   object\n",
      " 13  income                1797 non-null   object\n",
      " 14  Bar                   1797 non-null   object\n",
      " 15  CoffeeHouse           1770 non-null   object\n",
      " 16  CarryAway             1785 non-null   object\n",
      " 17  RestaurantLessThan20  1783 non-null   object\n",
      " 18  Restaurant20To50      1770 non-null   object\n",
      " 19  toCoupon_GEQ15min     1797 non-null   int64 \n",
      " 20  toCoupon_GEQ25min     1797 non-null   int64 \n",
      " 21  direction_same        1797 non-null   int64 \n",
      " 22  direction_opp         1797 non-null   int64 \n",
      " 23  Y                     1797 non-null   int64 \n",
      "dtypes: int64(7), object(17)\n",
      "memory usage: 351.0+ KB\n"
     ]
    }
   ],
   "source": [
    "barunder3.info()"
   ]
  },
  {
   "cell_type": "code",
   "execution_count": 40,
   "id": "a1011f65",
   "metadata": {},
   "outputs": [
    {
     "name": "stdout",
     "output_type": "stream",
     "text": [
      "   Y  percentage\n",
      "0  0    62.93823\n",
      "1  1    37.06177\n"
     ]
    }
   ],
   "source": [
    "#What proportion of the bar coupons were accepted by those who go to bars less than 3 times\n",
    "barunder3_accept = (barunder3['Y'].value_counts(normalize=True)\n",
    "                .mul(100)\n",
    "                .rename_axis('Y')\n",
    "                .reset_index(name='percentage'))\n",
    "print(barunder3_accept)"
   ]
  },
  {
   "cell_type": "markdown",
   "id": "29fc9949",
   "metadata": {},
   "source": [
    "### Drivers who went to bars less than three times accepted coupons 63% of the time"
   ]
  },
  {
   "cell_type": "code",
   "execution_count": 35,
   "id": "5e2203b6",
   "metadata": {},
   "outputs": [
    {
     "name": "stdout",
     "output_type": "stream",
     "text": [
      "<class 'pandas.core.frame.DataFrame'>\n",
      "Int64Index: 199 entries, 156 to 12215\n",
      "Data columns (total 24 columns):\n",
      " #   Column                Non-Null Count  Dtype \n",
      "---  ------                --------------  ----- \n",
      " 0   destination           199 non-null    object\n",
      " 1   passenger             199 non-null    object\n",
      " 2   weather               199 non-null    object\n",
      " 3   temperature           199 non-null    int64 \n",
      " 4   time                  199 non-null    object\n",
      " 5   coupon                199 non-null    object\n",
      " 6   expiration            199 non-null    object\n",
      " 7   gender                199 non-null    object\n",
      " 8   age                   199 non-null    object\n",
      " 9   maritalStatus         199 non-null    object\n",
      " 10  has_children          199 non-null    int64 \n",
      " 11  education             199 non-null    object\n",
      " 12  occupation            199 non-null    object\n",
      " 13  income                199 non-null    object\n",
      " 14  Bar                   199 non-null    object\n",
      " 15  CoffeeHouse           196 non-null    object\n",
      " 16  CarryAway             196 non-null    object\n",
      " 17  RestaurantLessThan20  199 non-null    object\n",
      " 18  Restaurant20To50      199 non-null    object\n",
      " 19  toCoupon_GEQ15min     199 non-null    int64 \n",
      " 20  toCoupon_GEQ25min     199 non-null    int64 \n",
      " 21  direction_same        199 non-null    int64 \n",
      " 22  direction_opp         199 non-null    int64 \n",
      " 23  Y                     199 non-null    int64 \n",
      "dtypes: int64(7), object(17)\n",
      "memory usage: 38.9+ KB\n"
     ]
    }
   ],
   "source": [
    "bar3ormore = barcoupons_only.query('(Bar== \"gt8\") or (Bar==\"4~8\")')\n",
    "bar3ormore.info()"
   ]
  },
  {
   "cell_type": "code",
   "execution_count": 36,
   "id": "43129a37",
   "metadata": {},
   "outputs": [
    {
     "name": "stdout",
     "output_type": "stream",
     "text": [
      "   Y  percentage\n",
      "0  1   76.884422\n",
      "1  0   23.115578\n"
     ]
    }
   ],
   "source": [
    "#What proportion of the bar coupons were accepted by those who go to bars more than 3 times\n",
    "bar3ormore_accept = (bar3ormore['Y'].value_counts(normalize=True)\n",
    "                .mul(100)\n",
    "                .rename_axis('Y')\n",
    "                .reset_index(name='percentage'))\n",
    "print(bar3ormore_accept)"
   ]
  },
  {
   "cell_type": "markdown",
   "id": "d8010f4c",
   "metadata": {},
   "source": [
    "### Folks who went to bars more than three times accepted coupons 76% of the time."
   ]
  },
  {
   "cell_type": "markdown",
   "id": "27538ac5",
   "metadata": {},
   "source": [
    "### Folks who went to bars less than three times accepted coupons 63% of the time."
   ]
  },
  {
   "cell_type": "markdown",
   "id": "58555eca",
   "metadata": {},
   "source": [
    "### So there is a higher acceptance rate for visits greater than 3."
   ]
  },
  {
   "cell_type": "markdown",
   "id": "d63fcaea",
   "metadata": {},
   "source": [
    "#### Compare the acceptance rate between drivers who go to a bar more than once a month and are over the age of 25 to the all others. Is there a difference?"
   ]
  },
  {
   "cell_type": "code",
   "execution_count": 42,
   "id": "1aa86ea9",
   "metadata": {},
   "outputs": [
    {
     "name": "stdout",
     "output_type": "stream",
     "text": [
      "['21' '46' '26' '31' '41' '50plus' '36' 'below21']\n"
     ]
    }
   ],
   "source": [
    "print(barcoupons_only['age'].unique())"
   ]
  },
  {
   "cell_type": "code",
   "execution_count": 43,
   "id": "b4c33c1c",
   "metadata": {
    "scrolled": true
   },
   "outputs": [
    {
     "name": "stdout",
     "output_type": "stream",
     "text": [
      "<class 'pandas.core.frame.DataFrame'>\n",
      "Int64Index: 1513 entries, 46 to 12682\n",
      "Data columns (total 24 columns):\n",
      " #   Column                Non-Null Count  Dtype \n",
      "---  ------                --------------  ----- \n",
      " 0   destination           1513 non-null   object\n",
      " 1   passenger             1513 non-null   object\n",
      " 2   weather               1513 non-null   object\n",
      " 3   temperature           1513 non-null   int64 \n",
      " 4   time                  1513 non-null   object\n",
      " 5   coupon                1513 non-null   object\n",
      " 6   expiration            1513 non-null   object\n",
      " 7   gender                1513 non-null   object\n",
      " 8   age                   1513 non-null   object\n",
      " 9   maritalStatus         1513 non-null   object\n",
      " 10  has_children          1513 non-null   int64 \n",
      " 11  education             1513 non-null   object\n",
      " 12  occupation            1513 non-null   object\n",
      " 13  income                1513 non-null   object\n",
      " 14  Bar                   1493 non-null   object\n",
      " 15  CoffeeHouse           1475 non-null   object\n",
      " 16  CarryAway             1498 non-null   object\n",
      " 17  RestaurantLessThan20  1500 non-null   object\n",
      " 18  Restaurant20To50      1486 non-null   object\n",
      " 19  toCoupon_GEQ15min     1513 non-null   int64 \n",
      " 20  toCoupon_GEQ25min     1513 non-null   int64 \n",
      " 21  direction_same        1513 non-null   int64 \n",
      " 22  direction_opp         1513 non-null   int64 \n",
      " 23  Y                     1513 non-null   int64 \n",
      "dtypes: int64(7), object(17)\n",
      "memory usage: 295.5+ KB\n"
     ]
    }
   ],
   "source": [
    "#Coupons for drivers over 25\n",
    "driverover25 = barcoupons_only.query('age in [\"26\",\"31\",\"36\", \"41\",\"46\",\"50plus\"]')\n",
    "driverover25.info()\n",
    "\n"
   ]
  },
  {
   "cell_type": "code",
   "execution_count": 44,
   "id": "fd5b2ad1",
   "metadata": {},
   "outputs": [
    {
     "name": "stdout",
     "output_type": "stream",
     "text": [
      "['never' 'less1' '1~3' 'gt8' nan '4~8']\n"
     ]
    }
   ],
   "source": [
    "print(barcoupons_only['Bar'].unique())"
   ]
  },
  {
   "cell_type": "code",
   "execution_count": 45,
   "id": "e3832b62",
   "metadata": {},
   "outputs": [
    {
     "name": "stdout",
     "output_type": "stream",
     "text": [
      "<class 'pandas.core.frame.DataFrame'>\n",
      "Int64Index: 420 entries, 112 to 12500\n",
      "Data columns (total 24 columns):\n",
      " #   Column                Non-Null Count  Dtype \n",
      "---  ------                --------------  ----- \n",
      " 0   destination           420 non-null    object\n",
      " 1   passenger             420 non-null    object\n",
      " 2   weather               420 non-null    object\n",
      " 3   temperature           420 non-null    int64 \n",
      " 4   time                  420 non-null    object\n",
      " 5   coupon                420 non-null    object\n",
      " 6   expiration            420 non-null    object\n",
      " 7   gender                420 non-null    object\n",
      " 8   age                   420 non-null    object\n",
      " 9   maritalStatus         420 non-null    object\n",
      " 10  has_children          420 non-null    int64 \n",
      " 11  education             420 non-null    object\n",
      " 12  occupation            420 non-null    object\n",
      " 13  income                420 non-null    object\n",
      " 14  Bar                   420 non-null    object\n",
      " 15  CoffeeHouse           414 non-null    object\n",
      " 16  CarryAway             413 non-null    object\n",
      " 17  RestaurantLessThan20  420 non-null    object\n",
      " 18  Restaurant20To50      413 non-null    object\n",
      " 19  toCoupon_GEQ15min     420 non-null    int64 \n",
      " 20  toCoupon_GEQ25min     420 non-null    int64 \n",
      " 21  direction_same        420 non-null    int64 \n",
      " 22  direction_opp         420 non-null    int64 \n",
      " 23  Y                     420 non-null    int64 \n",
      "dtypes: int64(7), object(17)\n",
      "memory usage: 82.0+ KB\n"
     ]
    }
   ],
   "source": [
    "bar25_morethan1 = driverover25.query('Bar in [\"1~3\",\"gt8\",\"4~8\"]')\n",
    "bar25_morethan1.info()"
   ]
  },
  {
   "cell_type": "code",
   "execution_count": 43,
   "id": "d078679a",
   "metadata": {},
   "outputs": [
    {
     "name": "stdout",
     "output_type": "stream",
     "text": [
      "   Y  percentage\n",
      "0  1    69.52381\n",
      "1  0    30.47619\n"
     ]
    }
   ],
   "source": [
    "#What proportion of the bar coupons were accepted by those over 25 and visit bars more than once a month\n",
    "bar25_morethan1_accept = (bar25_morethan1['Y'].value_counts(normalize=True)\n",
    "                .mul(100)\n",
    "                .rename_axis('Y')\n",
    "                .reset_index(name='percentage'))\n",
    "print(bar25_morethan1_accept)"
   ]
  },
  {
   "cell_type": "markdown",
   "id": "89b05a0c",
   "metadata": {},
   "source": [
    "### 70% of the coupons were accepted by those over 25 and visiting bars more than once a month"
   ]
  },
  {
   "cell_type": "code",
   "execution_count": 46,
   "id": "3bef1c66",
   "metadata": {},
   "outputs": [
    {
     "name": "stdout",
     "output_type": "stream",
     "text": [
      "<class 'pandas.core.frame.DataFrame'>\n",
      "Int64Index: 504 entries, 9 to 12632\n",
      "Data columns (total 24 columns):\n",
      " #   Column                Non-Null Count  Dtype \n",
      "---  ------                --------------  ----- \n",
      " 0   destination           504 non-null    object\n",
      " 1   passenger             504 non-null    object\n",
      " 2   weather               504 non-null    object\n",
      " 3   temperature           504 non-null    int64 \n",
      " 4   time                  504 non-null    object\n",
      " 5   coupon                504 non-null    object\n",
      " 6   expiration            504 non-null    object\n",
      " 7   gender                504 non-null    object\n",
      " 8   age                   504 non-null    object\n",
      " 9   maritalStatus         504 non-null    object\n",
      " 10  has_children          504 non-null    int64 \n",
      " 11  education             504 non-null    object\n",
      " 12  occupation            504 non-null    object\n",
      " 13  income                504 non-null    object\n",
      " 14  Bar                   503 non-null    object\n",
      " 15  CoffeeHouse           503 non-null    object\n",
      " 16  CarryAway             495 non-null    object\n",
      " 17  RestaurantLessThan20  494 non-null    object\n",
      " 18  Restaurant20To50      495 non-null    object\n",
      " 19  toCoupon_GEQ15min     504 non-null    int64 \n",
      " 20  toCoupon_GEQ25min     504 non-null    int64 \n",
      " 21  direction_same        504 non-null    int64 \n",
      " 22  direction_opp         504 non-null    int64 \n",
      " 23  Y                     504 non-null    int64 \n",
      "dtypes: int64(7), object(17)\n",
      "memory usage: 98.4+ KB\n"
     ]
    }
   ],
   "source": [
    "#Coupons for drivers over 25\n",
    "driverunder25 = barcoupons_only.query('age in [\"21\",\"below21\"]')\n",
    "driverunder25.info()\n"
   ]
  },
  {
   "cell_type": "code",
   "execution_count": 48,
   "id": "7ae4d028",
   "metadata": {},
   "outputs": [
    {
     "name": "stdout",
     "output_type": "stream",
     "text": [
      "<class 'pandas.core.frame.DataFrame'>\n",
      "Int64Index: 327 entries, 9 to 12632\n",
      "Data columns (total 24 columns):\n",
      " #   Column                Non-Null Count  Dtype \n",
      "---  ------                --------------  ----- \n",
      " 0   destination           327 non-null    object\n",
      " 1   passenger             327 non-null    object\n",
      " 2   weather               327 non-null    object\n",
      " 3   temperature           327 non-null    int64 \n",
      " 4   time                  327 non-null    object\n",
      " 5   coupon                327 non-null    object\n",
      " 6   expiration            327 non-null    object\n",
      " 7   gender                327 non-null    object\n",
      " 8   age                   327 non-null    object\n",
      " 9   maritalStatus         327 non-null    object\n",
      " 10  has_children          327 non-null    int64 \n",
      " 11  education             327 non-null    object\n",
      " 12  occupation            327 non-null    object\n",
      " 13  income                327 non-null    object\n",
      " 14  Bar                   327 non-null    object\n",
      " 15  CoffeeHouse           327 non-null    object\n",
      " 16  CarryAway             322 non-null    object\n",
      " 17  RestaurantLessThan20  318 non-null    object\n",
      " 18  Restaurant20To50      323 non-null    object\n",
      " 19  toCoupon_GEQ15min     327 non-null    int64 \n",
      " 20  toCoupon_GEQ25min     327 non-null    int64 \n",
      " 21  direction_same        327 non-null    int64 \n",
      " 22  direction_opp         327 non-null    int64 \n",
      " 23  Y                     327 non-null    int64 \n",
      "dtypes: int64(7), object(17)\n",
      "memory usage: 63.9+ KB\n"
     ]
    }
   ],
   "source": [
    "#Drivers over 25 who visit bars less than once a month\n",
    "baru25_less_than1 = driverunder25.query('Bar in [\"never\",\"less1\"]')\n",
    "baru25_less_than1.info()"
   ]
  },
  {
   "cell_type": "code",
   "execution_count": 49,
   "id": "95ec8a96",
   "metadata": {},
   "outputs": [
    {
     "name": "stdout",
     "output_type": "stream",
     "text": [
      "   Y  percentage\n",
      "0  0   60.550459\n",
      "1  1   39.449541\n"
     ]
    }
   ],
   "source": [
    "#What proportion of the bar coupons were accepted by those under 25 and visit bars less than once a month\n",
    "baru25_less_than1_accept = (baru25_less_than1['Y'].value_counts(normalize=True)\n",
    "                .mul(100)\n",
    "                .rename_axis('Y')\n",
    "                .reset_index(name='percentage'))\n",
    "print(baru25_less_than1_accept)"
   ]
  },
  {
   "cell_type": "markdown",
   "id": "0a3a634a",
   "metadata": {},
   "source": [
    "### 60% of the coupons were accepted by those under 25 and visiting bars less than once a month\n"
   ]
  },
  {
   "cell_type": "markdown",
   "id": "1f187c07",
   "metadata": {},
   "source": [
    "### 70% of the coupons were accepted by those over 25 and visiting bars more than once a month"
   ]
  },
  {
   "cell_type": "markdown",
   "id": "eca5672e",
   "metadata": {},
   "source": [
    "### So older multiple visit patrons had a higher acceptance rate"
   ]
  },
  {
   "cell_type": "markdown",
   "id": "cc63b88c",
   "metadata": {},
   "source": [
    "### 60% of the coupons were accepted by those under 25 and visiting bars less than once a month\n",
    "However those in the age group below 21 could accept the coupon but that does not mean they were served alcohol in the US\n",
    "as it is against the law. We can do some research to find if people under 21 accepted the coupon as below"
   ]
  },
  {
   "cell_type": "code",
   "execution_count": 50,
   "id": "d209114b",
   "metadata": {},
   "outputs": [
    {
     "name": "stdout",
     "output_type": "stream",
     "text": [
      "<class 'pandas.core.frame.DataFrame'>\n",
      "Int64Index: 417 entries, 9 to 12632\n",
      "Data columns (total 24 columns):\n",
      " #   Column                Non-Null Count  Dtype \n",
      "---  ------                --------------  ----- \n",
      " 0   destination           417 non-null    object\n",
      " 1   passenger             417 non-null    object\n",
      " 2   weather               417 non-null    object\n",
      " 3   temperature           417 non-null    int64 \n",
      " 4   time                  417 non-null    object\n",
      " 5   coupon                417 non-null    object\n",
      " 6   expiration            417 non-null    object\n",
      " 7   gender                417 non-null    object\n",
      " 8   age                   417 non-null    object\n",
      " 9   maritalStatus         417 non-null    object\n",
      " 10  has_children          417 non-null    int64 \n",
      " 11  education             417 non-null    object\n",
      " 12  occupation            417 non-null    object\n",
      " 13  income                417 non-null    object\n",
      " 14  Bar                   416 non-null    object\n",
      " 15  CoffeeHouse           416 non-null    object\n",
      " 16  CarryAway             410 non-null    object\n",
      " 17  RestaurantLessThan20  407 non-null    object\n",
      " 18  Restaurant20To50      412 non-null    object\n",
      " 19  toCoupon_GEQ15min     417 non-null    int64 \n",
      " 20  toCoupon_GEQ25min     417 non-null    int64 \n",
      " 21  direction_same        417 non-null    int64 \n",
      " 22  direction_opp         417 non-null    int64 \n",
      " 23  Y                     417 non-null    int64 \n",
      "dtypes: int64(7), object(17)\n",
      "memory usage: 81.4+ KB\n"
     ]
    }
   ],
   "source": [
    "driver21 = barcoupons_only.query('age in [\"21\"]')\n",
    "driver21.info()"
   ]
  },
  {
   "cell_type": "code",
   "execution_count": 51,
   "id": "ba1c4567",
   "metadata": {},
   "outputs": [
    {
     "name": "stdout",
     "output_type": "stream",
     "text": [
      "<class 'pandas.core.frame.DataFrame'>\n",
      "Int64Index: 87 entries, 1217 to 11930\n",
      "Data columns (total 24 columns):\n",
      " #   Column                Non-Null Count  Dtype \n",
      "---  ------                --------------  ----- \n",
      " 0   destination           87 non-null     object\n",
      " 1   passenger             87 non-null     object\n",
      " 2   weather               87 non-null     object\n",
      " 3   temperature           87 non-null     int64 \n",
      " 4   time                  87 non-null     object\n",
      " 5   coupon                87 non-null     object\n",
      " 6   expiration            87 non-null     object\n",
      " 7   gender                87 non-null     object\n",
      " 8   age                   87 non-null     object\n",
      " 9   maritalStatus         87 non-null     object\n",
      " 10  has_children          87 non-null     int64 \n",
      " 11  education             87 non-null     object\n",
      " 12  occupation            87 non-null     object\n",
      " 13  income                87 non-null     object\n",
      " 14  Bar                   87 non-null     object\n",
      " 15  CoffeeHouse           87 non-null     object\n",
      " 16  CarryAway             85 non-null     object\n",
      " 17  RestaurantLessThan20  87 non-null     object\n",
      " 18  Restaurant20To50      83 non-null     object\n",
      " 19  toCoupon_GEQ15min     87 non-null     int64 \n",
      " 20  toCoupon_GEQ25min     87 non-null     int64 \n",
      " 21  direction_same        87 non-null     int64 \n",
      " 22  direction_opp         87 non-null     int64 \n",
      " 23  Y                     87 non-null     int64 \n",
      "dtypes: int64(7), object(17)\n",
      "memory usage: 17.0+ KB\n"
     ]
    }
   ],
   "source": [
    "driveru21 = barcoupons_only.query('age in [\"below21\"]')\n",
    "driveru21.info()"
   ]
  },
  {
   "cell_type": "code",
   "execution_count": 52,
   "id": "d7f2cdad",
   "metadata": {},
   "outputs": [
    {
     "name": "stdout",
     "output_type": "stream",
     "text": [
      "[1 0]\n"
     ]
    }
   ],
   "source": [
    "print(driveru21['Y'].unique())"
   ]
  },
  {
   "cell_type": "code",
   "execution_count": 53,
   "id": "2a73b927",
   "metadata": {},
   "outputs": [],
   "source": [
    "# So some of those under 21 accepted the coupon. Maybe we should eliminate these 87 entries going by the law but we\n",
    "# will keep it as is."
   ]
  },
  {
   "cell_type": "code",
   "execution_count": 54,
   "id": "3d641409",
   "metadata": {},
   "outputs": [
    {
     "name": "stdout",
     "output_type": "stream",
     "text": [
      "   Y  percentage\n",
      "0  0    58.62069\n",
      "1  1    41.37931\n"
     ]
    }
   ],
   "source": [
    "#What proportion of the bar coupons were accepted by those under 21 which is illegal\n",
    "driveru21_accept = (driveru21['Y'].value_counts(normalize=True)\n",
    "                .mul(100)\n",
    "                .rename_axis('Y')\n",
    "                .reset_index(name='percentage'))\n",
    "print(driveru21_accept)"
   ]
  },
  {
   "cell_type": "markdown",
   "id": "0c35528f",
   "metadata": {},
   "source": [
    "### Use the same process to compare the acceptance rate between drivers who go to bars more than once a month and had passengers that were not a kid and had occupations other than farming, fishing, or forestry."
   ]
  },
  {
   "cell_type": "code",
   "execution_count": 51,
   "id": "ef255d83",
   "metadata": {},
   "outputs": [
    {
     "name": "stdout",
     "output_type": "stream",
     "text": [
      "['never' 'less1' '1~3' 'gt8' nan '4~8']\n"
     ]
    }
   ],
   "source": [
    "print(barcoupons_only['Bar'].unique())"
   ]
  },
  {
   "cell_type": "code",
   "execution_count": 52,
   "id": "42858617",
   "metadata": {},
   "outputs": [
    {
     "name": "stdout",
     "output_type": "stream",
     "text": [
      "<class 'pandas.core.frame.DataFrame'>\n",
      "Int64Index: 596 entries, 90 to 12544\n",
      "Data columns (total 24 columns):\n",
      " #   Column                Non-Null Count  Dtype \n",
      "---  ------                --------------  ----- \n",
      " 0   destination           596 non-null    object\n",
      " 1   passenger             596 non-null    object\n",
      " 2   weather               596 non-null    object\n",
      " 3   temperature           596 non-null    int64 \n",
      " 4   time                  596 non-null    object\n",
      " 5   coupon                596 non-null    object\n",
      " 6   expiration            596 non-null    object\n",
      " 7   gender                596 non-null    object\n",
      " 8   age                   596 non-null    object\n",
      " 9   maritalStatus         596 non-null    object\n",
      " 10  has_children          596 non-null    int64 \n",
      " 11  education             596 non-null    object\n",
      " 12  occupation            596 non-null    object\n",
      " 13  income                596 non-null    object\n",
      " 14  Bar                   596 non-null    object\n",
      " 15  CoffeeHouse           590 non-null    object\n",
      " 16  CarryAway             586 non-null    object\n",
      " 17  RestaurantLessThan20  596 non-null    object\n",
      " 18  Restaurant20To50      585 non-null    object\n",
      " 19  toCoupon_GEQ15min     596 non-null    int64 \n",
      " 20  toCoupon_GEQ25min     596 non-null    int64 \n",
      " 21  direction_same        596 non-null    int64 \n",
      " 22  direction_opp         596 non-null    int64 \n",
      " 23  Y                     596 non-null    int64 \n",
      "dtypes: int64(7), object(17)\n",
      "memory usage: 116.4+ KB\n"
     ]
    }
   ],
   "source": [
    "bar1ormore = barcoupons_only.query('Bar in [\"1~3\",\"gt8\",\"4~8\"]')\n",
    "bar1ormore.info()\n"
   ]
  },
  {
   "cell_type": "code",
   "execution_count": 53,
   "id": "1fc3b5d5",
   "metadata": {},
   "outputs": [
    {
     "name": "stdout",
     "output_type": "stream",
     "text": [
      "['Friend(s)' 'Alone' 'Partner' 'Kid(s)']\n"
     ]
    }
   ],
   "source": [
    "print(bar1ormore['passenger'].unique())"
   ]
  },
  {
   "cell_type": "code",
   "execution_count": 54,
   "id": "1dacdc3d",
   "metadata": {},
   "outputs": [
    {
     "name": "stdout",
     "output_type": "stream",
     "text": [
      "<class 'pandas.core.frame.DataFrame'>\n",
      "Int64Index: 551 entries, 90 to 12544\n",
      "Data columns (total 24 columns):\n",
      " #   Column                Non-Null Count  Dtype \n",
      "---  ------                --------------  ----- \n",
      " 0   destination           551 non-null    object\n",
      " 1   passenger             551 non-null    object\n",
      " 2   weather               551 non-null    object\n",
      " 3   temperature           551 non-null    int64 \n",
      " 4   time                  551 non-null    object\n",
      " 5   coupon                551 non-null    object\n",
      " 6   expiration            551 non-null    object\n",
      " 7   gender                551 non-null    object\n",
      " 8   age                   551 non-null    object\n",
      " 9   maritalStatus         551 non-null    object\n",
      " 10  has_children          551 non-null    int64 \n",
      " 11  education             551 non-null    object\n",
      " 12  occupation            551 non-null    object\n",
      " 13  income                551 non-null    object\n",
      " 14  Bar                   551 non-null    object\n",
      " 15  CoffeeHouse           546 non-null    object\n",
      " 16  CarryAway             543 non-null    object\n",
      " 17  RestaurantLessThan20  551 non-null    object\n",
      " 18  Restaurant20To50      541 non-null    object\n",
      " 19  toCoupon_GEQ15min     551 non-null    int64 \n",
      " 20  toCoupon_GEQ25min     551 non-null    int64 \n",
      " 21  direction_same        551 non-null    int64 \n",
      " 22  direction_opp         551 non-null    int64 \n",
      " 23  Y                     551 non-null    int64 \n",
      "dtypes: int64(7), object(17)\n",
      "memory usage: 107.6+ KB\n"
     ]
    }
   ],
   "source": [
    "bar1nokids= bar1ormore.query('passenger in [\"Friend(s)\",\"Alone\",\"Partner\"]')\n",
    "bar1nokids.info()"
   ]
  },
  {
   "cell_type": "code",
   "execution_count": 55,
   "id": "b112a6e5",
   "metadata": {},
   "outputs": [
    {
     "name": "stdout",
     "output_type": "stream",
     "text": [
      "['Student' 'Healthcare Support' 'Management' 'Unemployed'\n",
      " 'Sales & Related' 'Office & Administrative Support'\n",
      " 'Construction & Extraction' 'Legal' 'Life Physical Social Science'\n",
      " 'Retired' 'Computer & Mathematical'\n",
      " 'Healthcare Practitioners & Technical' 'Personal Care & Service'\n",
      " 'Architecture & Engineering' 'Arts Design Entertainment Sports & Media'\n",
      " 'Protective Service' 'Business & Financial'\n",
      " 'Food Preparation & Serving Related' 'Installation Maintenance & Repair'\n",
      " 'Education&Training&Library' 'Community & Social Services'\n",
      " 'Production Occupations' 'Transportation & Material Moving'\n",
      " 'Building & Grounds Cleaning & Maintenance']\n"
     ]
    }
   ],
   "source": [
    "print(bar1nokids['occupation'].unique())"
   ]
  },
  {
   "cell_type": "code",
   "execution_count": 56,
   "id": "682cd5cc",
   "metadata": {},
   "outputs": [],
   "source": [
    "# The dataframe \"bar1nokids does not include anyone with farming fishing or forestry anyway so we can use that data frame\""
   ]
  },
  {
   "cell_type": "code",
   "execution_count": 57,
   "id": "b2422cfa",
   "metadata": {},
   "outputs": [
    {
     "name": "stdout",
     "output_type": "stream",
     "text": [
      "   Y  percentage\n",
      "0  1   71.324864\n",
      "1  0   28.675136\n"
     ]
    }
   ],
   "source": [
    "#What proportion of the bar coupons were accepted by those\n",
    "#between drivers who go to bars more than once a month \n",
    "#and had passengers that were not a kid \n",
    "#and had occupations other than farming, fishing, or forestry.\n",
    "\n",
    "bar1nokids_accept = (bar1nokids['Y'].value_counts(normalize=True)\n",
    "                .mul(100)\n",
    "                .rename_axis('Y')\n",
    "                .reset_index(name='percentage'))\n",
    "print(bar1nokids_accept)"
   ]
  },
  {
   "cell_type": "markdown",
   "id": "2bc0d79c",
   "metadata": {},
   "source": [
    "### We see that there was a 71% acceptance rate for drivers who go to bars more than once a month and had passengers that were not a kid and had occupations other than farming, fishing, or forestry"
   ]
  },
  {
   "cell_type": "code",
   "execution_count": 60,
   "id": "96cdcee0",
   "metadata": {},
   "outputs": [],
   "source": [
    "# Find acceptance rate for drivers who go to bars more than once a month, had passengers that were not a kid, \n",
    "#and were not widowed"
   ]
  },
  {
   "cell_type": "code",
   "execution_count": 61,
   "id": "dec077ac",
   "metadata": {},
   "outputs": [
    {
     "name": "stdout",
     "output_type": "stream",
     "text": [
      "['Single' 'Unmarried partner' 'Married partner' 'Divorced']\n"
     ]
    }
   ],
   "source": [
    "print(bar1nokids['maritalStatus'].unique())"
   ]
  },
  {
   "cell_type": "markdown",
   "id": "5db53072",
   "metadata": {},
   "source": [
    "### The acceptance rate for for drivers who go to bars more than once a month, had passengers that were not a kid, and were not widowed is also 71% since the data frame does not include any widowed passengers when the set is more than 1 bar visit a month plus no kids as passengers"
   ]
  },
  {
   "cell_type": "code",
   "execution_count": 62,
   "id": "394b9fdf",
   "metadata": {},
   "outputs": [],
   "source": [
    "# Finding the acceptance rate for those who go to bars more than once a month and are under the age of 30"
   ]
  },
  {
   "cell_type": "code",
   "execution_count": 63,
   "id": "de5a4887",
   "metadata": {},
   "outputs": [
    {
     "name": "stdout",
     "output_type": "stream",
     "text": [
      "<class 'pandas.core.frame.DataFrame'>\n",
      "Int64Index: 345 entries, 90 to 12544\n",
      "Data columns (total 24 columns):\n",
      " #   Column                Non-Null Count  Dtype \n",
      "---  ------                --------------  ----- \n",
      " 0   destination           345 non-null    object\n",
      " 1   passenger             345 non-null    object\n",
      " 2   weather               345 non-null    object\n",
      " 3   temperature           345 non-null    int64 \n",
      " 4   time                  345 non-null    object\n",
      " 5   coupon                345 non-null    object\n",
      " 6   expiration            345 non-null    object\n",
      " 7   gender                345 non-null    object\n",
      " 8   age                   345 non-null    object\n",
      " 9   maritalStatus         345 non-null    object\n",
      " 10  has_children          345 non-null    int64 \n",
      " 11  education             345 non-null    object\n",
      " 12  occupation            345 non-null    object\n",
      " 13  income                345 non-null    object\n",
      " 14  Bar                   345 non-null    object\n",
      " 15  CoffeeHouse           342 non-null    object\n",
      " 16  CarryAway             339 non-null    object\n",
      " 17  RestaurantLessThan20  345 non-null    object\n",
      " 18  Restaurant20To50      337 non-null    object\n",
      " 19  toCoupon_GEQ15min     345 non-null    int64 \n",
      " 20  toCoupon_GEQ25min     345 non-null    int64 \n",
      " 21  direction_same        345 non-null    int64 \n",
      " 22  direction_opp         345 non-null    int64 \n",
      " 23  Y                     345 non-null    int64 \n",
      "dtypes: int64(7), object(17)\n",
      "memory usage: 67.4+ KB\n",
      "   Y  percentage\n",
      "0  1   72.173913\n",
      "1  0   27.826087\n"
     ]
    }
   ],
   "source": [
    "bar1u30= bar1ormore.query('age in [\"21\", \"26\",\"below21\"]')\n",
    "bar1u30.info()\n",
    "\n",
    "bar1u30_accept = (bar1u30['Y'].value_counts(normalize=True)\n",
    "                .mul(100)\n",
    "                .rename_axis('Y')\n",
    "                .reset_index(name='percentage'))\n",
    "print(bar1u30_accept)"
   ]
  },
  {
   "cell_type": "markdown",
   "id": "ce6980cd",
   "metadata": {},
   "source": [
    "### The acceptance rate for those who go to bars more than once a month and are under the age of 30 is 72%"
   ]
  },
  {
   "cell_type": "code",
   "execution_count": 64,
   "id": "accce494",
   "metadata": {},
   "outputs": [],
   "source": [
    "# Find the acceptance rate for those who go to cheap restaurants more than 4 times a month and income is less than 50K. "
   ]
  },
  {
   "cell_type": "code",
   "execution_count": 65,
   "id": "8952dd0e",
   "metadata": {},
   "outputs": [
    {
     "name": "stdout",
     "output_type": "stream",
     "text": [
      "['$37500 - $49999' '$62500 - $74999' '$12500 - $24999' '$75000 - $87499'\n",
      " '$50000 - $62499' '$25000 - $37499' '$100000 or More' '$87500 - $99999'\n",
      " 'Less than $12500']\n"
     ]
    }
   ],
   "source": [
    "print(barcoupons_only['income'].unique())"
   ]
  },
  {
   "cell_type": "code",
   "execution_count": 66,
   "id": "80a80337",
   "metadata": {},
   "outputs": [
    {
     "name": "stdout",
     "output_type": "stream",
     "text": [
      "<class 'pandas.core.frame.DataFrame'>\n",
      "Int64Index: 1038 entries, 9 to 12632\n",
      "Data columns (total 24 columns):\n",
      " #   Column                Non-Null Count  Dtype \n",
      "---  ------                --------------  ----- \n",
      " 0   destination           1038 non-null   object\n",
      " 1   passenger             1038 non-null   object\n",
      " 2   weather               1038 non-null   object\n",
      " 3   temperature           1038 non-null   int64 \n",
      " 4   time                  1038 non-null   object\n",
      " 5   coupon                1038 non-null   object\n",
      " 6   expiration            1038 non-null   object\n",
      " 7   gender                1038 non-null   object\n",
      " 8   age                   1038 non-null   object\n",
      " 9   maritalStatus         1038 non-null   object\n",
      " 10  has_children          1038 non-null   int64 \n",
      " 11  education             1038 non-null   object\n",
      " 12  occupation            1038 non-null   object\n",
      " 13  income                1038 non-null   object\n",
      " 14  Bar                   1030 non-null   object\n",
      " 15  CoffeeHouse           1012 non-null   object\n",
      " 16  CarryAway             1032 non-null   object\n",
      " 17  RestaurantLessThan20  1024 non-null   object\n",
      " 18  Restaurant20To50      1016 non-null   object\n",
      " 19  toCoupon_GEQ15min     1038 non-null   int64 \n",
      " 20  toCoupon_GEQ25min     1038 non-null   int64 \n",
      " 21  direction_same        1038 non-null   int64 \n",
      " 22  direction_opp         1038 non-null   int64 \n",
      " 23  Y                     1038 non-null   int64 \n",
      "dtypes: int64(7), object(17)\n",
      "memory usage: 202.7+ KB\n"
     ]
    }
   ],
   "source": [
    "bar_low_inc = barcoupons_only.query('income in [\"Less than $12500\", \"$12500 - $24999\",\"$25000 - $37499\",\"$37500 - $49999\"]')\n",
    "bar_low_inc.info()"
   ]
  },
  {
   "cell_type": "code",
   "execution_count": 67,
   "id": "6db71570",
   "metadata": {},
   "outputs": [
    {
     "name": "stdout",
     "output_type": "stream",
     "text": [
      "['4~8' '1~3' 'less1' 'gt8' 'never' nan]\n"
     ]
    }
   ],
   "source": [
    "print(bar_low_inc['RestaurantLessThan20'].unique())"
   ]
  },
  {
   "cell_type": "code",
   "execution_count": 68,
   "id": "a5bde6e6",
   "metadata": {
    "scrolled": true
   },
   "outputs": [
    {
     "name": "stdout",
     "output_type": "stream",
     "text": [
      "<class 'pandas.core.frame.DataFrame'>\n",
      "Int64Index: 344 entries, 9 to 12544\n",
      "Data columns (total 24 columns):\n",
      " #   Column                Non-Null Count  Dtype \n",
      "---  ------                --------------  ----- \n",
      " 0   destination           344 non-null    object\n",
      " 1   passenger             344 non-null    object\n",
      " 2   weather               344 non-null    object\n",
      " 3   temperature           344 non-null    int64 \n",
      " 4   time                  344 non-null    object\n",
      " 5   coupon                344 non-null    object\n",
      " 6   expiration            344 non-null    object\n",
      " 7   gender                344 non-null    object\n",
      " 8   age                   344 non-null    object\n",
      " 9   maritalStatus         344 non-null    object\n",
      " 10  has_children          344 non-null    int64 \n",
      " 11  education             344 non-null    object\n",
      " 12  occupation            344 non-null    object\n",
      " 13  income                344 non-null    object\n",
      " 14  Bar                   339 non-null    object\n",
      " 15  CoffeeHouse           341 non-null    object\n",
      " 16  CarryAway             341 non-null    object\n",
      " 17  RestaurantLessThan20  344 non-null    object\n",
      " 18  Restaurant20To50      341 non-null    object\n",
      " 19  toCoupon_GEQ15min     344 non-null    int64 \n",
      " 20  toCoupon_GEQ25min     344 non-null    int64 \n",
      " 21  direction_same        344 non-null    int64 \n",
      " 22  direction_opp         344 non-null    int64 \n",
      " 23  Y                     344 non-null    int64 \n",
      "dtypes: int64(7), object(17)\n",
      "memory usage: 67.2+ KB\n",
      "   Y  percentage\n",
      "0  0   54.651163\n",
      "1  1   45.348837\n"
     ]
    }
   ],
   "source": [
    "bar_low_inc_4 = bar_low_inc.query('RestaurantLessThan20 in [\"4~8\", \"gt8\"]')\n",
    "bar_low_inc_4.info()\n",
    "\n",
    "bar_low_inc_4_accept = (bar_low_inc_4['Y'].value_counts(normalize=True)\n",
    "                .mul(100)\n",
    "                .rename_axis('Y')\n",
    "                .reset_index(name='percentage'))\n",
    "print(bar_low_inc_4_accept)"
   ]
  },
  {
   "cell_type": "markdown",
   "id": "f95881c7",
   "metadata": {},
   "source": [
    "### The acceptance rate for those who go to cheap restaurants more than 4 times a month and income is less than 50K is 54%"
   ]
  },
  {
   "cell_type": "markdown",
   "id": "4348dba6",
   "metadata": {},
   "source": [
    "### Overall 59% of the bar coupons were accepted.\n",
    "\n",
    "### Drivers who went to bars less than three times accepted coupons 63% of the time\n",
    "### Drivers who went to bars more than three times accepted coupons 76% of the time\n",
    "\n",
    "### Drivers over 25 and visiting bars more than once a month accepted coupons 70% of the time\n",
    "### Drivers under 25 and visiting bars less than once a month accepted coupons 60% of the time\n",
    "\n",
    "### Drivers who go to bars more than once a month and had passengers that were not a kid \n",
    "### and had occupations other than farming, fishing, or forestry accepted coupons 71% of the time\n",
    "\n",
    "### Drivers who go to bars more than once a month, and had passengers that were not a kid,  \n",
    "### and were not widowed also accepted coupons 71% of the time\n",
    "\n",
    "### Drivers who go to bars more than once a month and are under the age of 30 accepted coupons 72% of the time\n",
    "\n",
    "### Drivers who go to cheap restaurants more than 4 times a month and income is less than 50K accepted coupons 54%\n",
    "\n",
    "## Summarizing: Older drivers over 25 visiting bars more than three times a month had the largest acceptance rate.\n",
    "## Younger drivers who went to bars more than once a month also has a high acceptance rate.\n",
    "## The overall hit rate irrespective of demographics of bar coupons of 60% is quite impressive."
   ]
  },
  {
   "cell_type": "code",
   "execution_count": 69,
   "id": "5033c30a",
   "metadata": {},
   "outputs": [],
   "source": [
    "# Let us now see how takeout (carryaway) coupons vary among various demographics"
   ]
  },
  {
   "cell_type": "code",
   "execution_count": 70,
   "id": "c37b2730",
   "metadata": {},
   "outputs": [
    {
     "name": "stdout",
     "output_type": "stream",
     "text": [
      "<class 'pandas.core.frame.DataFrame'>\n",
      "Int64Index: 2393 entries, 2 to 12680\n",
      "Data columns (total 24 columns):\n",
      " #   Column                Non-Null Count  Dtype \n",
      "---  ------                --------------  ----- \n",
      " 0   destination           2393 non-null   object\n",
      " 1   passenger             2393 non-null   object\n",
      " 2   weather               2393 non-null   object\n",
      " 3   temperature           2393 non-null   int64 \n",
      " 4   time                  2393 non-null   object\n",
      " 5   coupon                2393 non-null   object\n",
      " 6   expiration            2393 non-null   object\n",
      " 7   gender                2393 non-null   object\n",
      " 8   age                   2393 non-null   object\n",
      " 9   maritalStatus         2393 non-null   object\n",
      " 10  has_children          2393 non-null   int64 \n",
      " 11  education             2393 non-null   object\n",
      " 12  occupation            2393 non-null   object\n",
      " 13  income                2393 non-null   object\n",
      " 14  Bar                   2377 non-null   object\n",
      " 15  CoffeeHouse           2361 non-null   object\n",
      " 16  CarryAway             2371 non-null   object\n",
      " 17  RestaurantLessThan20  2375 non-null   object\n",
      " 18  Restaurant20To50      2360 non-null   object\n",
      " 19  toCoupon_GEQ15min     2393 non-null   int64 \n",
      " 20  toCoupon_GEQ25min     2393 non-null   int64 \n",
      " 21  direction_same        2393 non-null   int64 \n",
      " 22  direction_opp         2393 non-null   int64 \n",
      " 23  Y                     2393 non-null   int64 \n",
      "dtypes: int64(7), object(17)\n",
      "memory usage: 467.4+ KB\n"
     ]
    }
   ],
   "source": [
    "#Create a new DataFrame that contains just the Carryout and Takeaway coupons.\n",
    "takeout= dfrenamed[dfrenamed[\"coupon\"] == \"Carry out & Take away\"]\n",
    "takeout.info()"
   ]
  },
  {
   "cell_type": "code",
   "execution_count": 71,
   "id": "60554eab",
   "metadata": {},
   "outputs": [
    {
     "name": "stdout",
     "output_type": "stream",
     "text": [
      "   Y  percentage\n",
      "0  1   73.547848\n",
      "1  0   26.452152\n"
     ]
    }
   ],
   "source": [
    "#What proportion of the takeout coupons were accepted\n",
    "takeout_accept = (takeout['Y'].value_counts(normalize=True)\n",
    "                .mul(100)\n",
    "                .rename_axis('Y')\n",
    "                .reset_index(name='percentage'))\n",
    "print(takeout_accept)"
   ]
  },
  {
   "cell_type": "code",
   "execution_count": 72,
   "id": "08548fae",
   "metadata": {},
   "outputs": [],
   "source": [
    "# Drivers accepted take out coupons 74% of the time"
   ]
  },
  {
   "cell_type": "code",
   "execution_count": 81,
   "id": "875cb572",
   "metadata": {},
   "outputs": [
    {
     "name": "stdout",
     "output_type": "stream",
     "text": [
      "<class 'pandas.core.frame.DataFrame'>\n",
      "Int64Index: 653 entries, 4014 to 12679\n",
      "Data columns (total 24 columns):\n",
      " #   Column                Non-Null Count  Dtype \n",
      "---  ------                --------------  ----- \n",
      " 0   destination           653 non-null    object\n",
      " 1   passenger             653 non-null    object\n",
      " 2   weather               653 non-null    object\n",
      " 3   temperature           653 non-null    int64 \n",
      " 4   time                  653 non-null    object\n",
      " 5   coupon                653 non-null    object\n",
      " 6   expiration            653 non-null    object\n",
      " 7   gender                653 non-null    object\n",
      " 8   age                   653 non-null    object\n",
      " 9   maritalStatus         653 non-null    object\n",
      " 10  has_children          653 non-null    int64 \n",
      " 11  education             653 non-null    object\n",
      " 12  occupation            653 non-null    object\n",
      " 13  income                653 non-null    object\n",
      " 14  Bar                   648 non-null    object\n",
      " 15  CoffeeHouse           643 non-null    object\n",
      " 16  CarryAway             648 non-null    object\n",
      " 17  RestaurantLessThan20  649 non-null    object\n",
      " 18  Restaurant20To50      644 non-null    object\n",
      " 19  toCoupon_GEQ15min     653 non-null    int64 \n",
      " 20  toCoupon_GEQ25min     653 non-null    int64 \n",
      " 21  direction_same        653 non-null    int64 \n",
      " 22  direction_opp         653 non-null    int64 \n",
      " 23  Y                     653 non-null    int64 \n",
      "dtypes: int64(7), object(17)\n",
      "memory usage: 127.5+ KB\n",
      "   Y  percentage\n",
      "0  1   78.866769\n",
      "1  0   21.133231\n"
     ]
    }
   ],
   "source": [
    "# Let us see if the destination made a difference in the acceptance rate\n",
    "takeout_home = takeout.query('destination in [\"Home\"]')\n",
    "takeout_home.info()\n",
    "\n",
    "takeout_home_accept = (takeout_home['Y'].value_counts(normalize=True)\n",
    "                .mul(100)\n",
    "                .rename_axis('Y')\n",
    "                .reset_index(name='percentage'))\n",
    "print(takeout_home_accept)"
   ]
  },
  {
   "cell_type": "code",
   "execution_count": 82,
   "id": "12006556",
   "metadata": {},
   "outputs": [
    {
     "name": "stdout",
     "output_type": "stream",
     "text": [
      "<class 'pandas.core.frame.DataFrame'>\n",
      "Int64Index: 1740 entries, 2 to 12680\n",
      "Data columns (total 24 columns):\n",
      " #   Column                Non-Null Count  Dtype \n",
      "---  ------                --------------  ----- \n",
      " 0   destination           1740 non-null   object\n",
      " 1   passenger             1740 non-null   object\n",
      " 2   weather               1740 non-null   object\n",
      " 3   temperature           1740 non-null   int64 \n",
      " 4   time                  1740 non-null   object\n",
      " 5   coupon                1740 non-null   object\n",
      " 6   expiration            1740 non-null   object\n",
      " 7   gender                1740 non-null   object\n",
      " 8   age                   1740 non-null   object\n",
      " 9   maritalStatus         1740 non-null   object\n",
      " 10  has_children          1740 non-null   int64 \n",
      " 11  education             1740 non-null   object\n",
      " 12  occupation            1740 non-null   object\n",
      " 13  income                1740 non-null   object\n",
      " 14  Bar                   1729 non-null   object\n",
      " 15  CoffeeHouse           1718 non-null   object\n",
      " 16  CarryAway             1723 non-null   object\n",
      " 17  RestaurantLessThan20  1726 non-null   object\n",
      " 18  Restaurant20To50      1716 non-null   object\n",
      " 19  toCoupon_GEQ15min     1740 non-null   int64 \n",
      " 20  toCoupon_GEQ25min     1740 non-null   int64 \n",
      " 21  direction_same        1740 non-null   int64 \n",
      " 22  direction_opp         1740 non-null   int64 \n",
      " 23  Y                     1740 non-null   int64 \n",
      "dtypes: int64(7), object(17)\n",
      "memory usage: 339.8+ KB\n",
      "   Y  percentage\n",
      "0  1   71.551724\n",
      "1  0   28.448276\n"
     ]
    }
   ],
   "source": [
    "# Almost 80% of the folks on their way home accepted a takeout coupon\n",
    "# Let us see the difference for those drive to work or no place in particular\n",
    "\n",
    "# Let us see if the destination made a difference in the acceptance rate\n",
    "takeout_other = takeout.query('destination in [\"Work\",\"No Urgent Place\"]')\n",
    "#takeout_other = takeout.query('destination in [\"No Urgent Place\"]')\n",
    "#takeout_other = takeout.query('destination in [\"Work\"]')\n",
    "takeout_other.info()\n",
    "\n",
    "takeout_other_accept = (takeout_other['Y'].value_counts(normalize=True)\n",
    "                .mul(100)\n",
    "                .rename_axis('Y')\n",
    "                .reset_index(name='percentage'))\n",
    "print(takeout_other_accept)\n",
    "\n"
   ]
  },
  {
   "cell_type": "markdown",
   "id": "45247bad",
   "metadata": {},
   "source": [
    "### We see that if you are driving to work you have the lowest acceptance rate of 65%, then 76% with no particular destination in place and 71% if you combine these two groups"
   ]
  },
  {
   "cell_type": "markdown",
   "id": "8147036e",
   "metadata": {},
   "source": [
    "### We know that almost 80% of the folks on their way home accepted a carryout coupon. For all carry out coupons irrespective of destination, let us examine the importance of having a child at home."
   ]
  },
  {
   "cell_type": "code",
   "execution_count": 91,
   "id": "77905ccd",
   "metadata": {
    "scrolled": true
   },
   "outputs": [
    {
     "name": "stdout",
     "output_type": "stream",
     "text": [
      "<class 'pandas.core.frame.DataFrame'>\n",
      "Int64Index: 1026 entries, 2 to 12658\n",
      "Data columns (total 24 columns):\n",
      " #   Column                Non-Null Count  Dtype \n",
      "---  ------                --------------  ----- \n",
      " 0   destination           1026 non-null   object\n",
      " 1   passenger             1026 non-null   object\n",
      " 2   weather               1026 non-null   object\n",
      " 3   temperature           1026 non-null   int64 \n",
      " 4   time                  1026 non-null   object\n",
      " 5   coupon                1026 non-null   object\n",
      " 6   expiration            1026 non-null   object\n",
      " 7   gender                1026 non-null   object\n",
      " 8   age                   1026 non-null   object\n",
      " 9   maritalStatus         1026 non-null   object\n",
      " 10  has_children          1026 non-null   int64 \n",
      " 11  education             1026 non-null   object\n",
      " 12  occupation            1026 non-null   object\n",
      " 13  income                1026 non-null   object\n",
      " 14  Bar                   1016 non-null   object\n",
      " 15  CoffeeHouse           1015 non-null   object\n",
      " 16  CarryAway             1016 non-null   object\n",
      " 17  RestaurantLessThan20  1011 non-null   object\n",
      " 18  Restaurant20To50      1003 non-null   object\n",
      " 19  toCoupon_GEQ15min     1026 non-null   int64 \n",
      " 20  toCoupon_GEQ25min     1026 non-null   int64 \n",
      " 21  direction_same        1026 non-null   int64 \n",
      " 22  direction_opp         1026 non-null   int64 \n",
      " 23  Y                     1026 non-null   int64 \n",
      "dtypes: int64(7), object(17)\n",
      "memory usage: 200.4+ KB\n",
      "   Y  percentage\n",
      "0  1   73.976608\n",
      "1  0   26.023392\n"
     ]
    }
   ],
   "source": [
    "takeout_child = takeout.query('has_children == 1')\n",
    "takeout_child.info()\n",
    "\n",
    "takeout_child_accept = (takeout_child['Y'].value_counts(normalize=True)\n",
    "                .mul(100)\n",
    "                .rename_axis('Y')\n",
    "                .reset_index(name='percentage'))\n",
    "print(takeout_child_accept)"
   ]
  },
  {
   "cell_type": "markdown",
   "id": "8132c751",
   "metadata": {},
   "source": [
    "### All drivers with children at home accepted carry out coupons 74% of the time"
   ]
  },
  {
   "cell_type": "code",
   "execution_count": 93,
   "id": "43f06e00",
   "metadata": {},
   "outputs": [
    {
     "name": "stdout",
     "output_type": "stream",
     "text": [
      "<class 'pandas.core.frame.DataFrame'>\n",
      "Int64Index: 1367 entries, 25 to 12680\n",
      "Data columns (total 24 columns):\n",
      " #   Column                Non-Null Count  Dtype \n",
      "---  ------                --------------  ----- \n",
      " 0   destination           1367 non-null   object\n",
      " 1   passenger             1367 non-null   object\n",
      " 2   weather               1367 non-null   object\n",
      " 3   temperature           1367 non-null   int64 \n",
      " 4   time                  1367 non-null   object\n",
      " 5   coupon                1367 non-null   object\n",
      " 6   expiration            1367 non-null   object\n",
      " 7   gender                1367 non-null   object\n",
      " 8   age                   1367 non-null   object\n",
      " 9   maritalStatus         1367 non-null   object\n",
      " 10  has_children          1367 non-null   int64 \n",
      " 11  education             1367 non-null   object\n",
      " 12  occupation            1367 non-null   object\n",
      " 13  income                1367 non-null   object\n",
      " 14  Bar                   1361 non-null   object\n",
      " 15  CoffeeHouse           1346 non-null   object\n",
      " 16  CarryAway             1355 non-null   object\n",
      " 17  RestaurantLessThan20  1364 non-null   object\n",
      " 18  Restaurant20To50      1357 non-null   object\n",
      " 19  toCoupon_GEQ15min     1367 non-null   int64 \n",
      " 20  toCoupon_GEQ25min     1367 non-null   int64 \n",
      " 21  direction_same        1367 non-null   int64 \n",
      " 22  direction_opp         1367 non-null   int64 \n",
      " 23  Y                     1367 non-null   int64 \n",
      "dtypes: int64(7), object(17)\n",
      "memory usage: 267.0+ KB\n",
      "   Y  percentage\n",
      "0  1   73.226042\n",
      "1  0   26.773958\n"
     ]
    }
   ],
   "source": [
    "# How does the acceptance rate of carryout change where there are no child at home\n",
    "\n",
    "takeout_no_child = takeout.query('has_children == 0')\n",
    "takeout_no_child.info()\n",
    "\n",
    "takeout_no_child_accept = (takeout_no_child['Y'].value_counts(normalize=True)\n",
    "                .mul(100)\n",
    "                .rename_axis('Y')\n",
    "                .reset_index(name='percentage'))\n",
    "print(takeout_no_child_accept)"
   ]
  },
  {
   "cell_type": "markdown",
   "id": "d91d3b5a",
   "metadata": {},
   "source": [
    "### Looks like the acceptance rate is 73% and there is no material difference between having children at home or not."
   ]
  },
  {
   "cell_type": "code",
   "execution_count": 73,
   "id": "6f4a565f",
   "metadata": {},
   "outputs": [
    {
     "name": "stdout",
     "output_type": "stream",
     "text": [
      "<class 'pandas.core.frame.DataFrame'>\n",
      "Int64Index: 793 entries, 19 to 12679\n",
      "Data columns (total 24 columns):\n",
      " #   Column                Non-Null Count  Dtype \n",
      "---  ------                --------------  ----- \n",
      " 0   destination           793 non-null    object\n",
      " 1   passenger             793 non-null    object\n",
      " 2   weather               793 non-null    object\n",
      " 3   temperature           793 non-null    int64 \n",
      " 4   time                  793 non-null    object\n",
      " 5   coupon                793 non-null    object\n",
      " 6   expiration            793 non-null    object\n",
      " 7   gender                793 non-null    object\n",
      " 8   age                   793 non-null    object\n",
      " 9   maritalStatus         793 non-null    object\n",
      " 10  has_children          793 non-null    int64 \n",
      " 11  education             793 non-null    object\n",
      " 12  occupation            793 non-null    object\n",
      " 13  income                793 non-null    object\n",
      " 14  Bar                   789 non-null    object\n",
      " 15  CoffeeHouse           784 non-null    object\n",
      " 16  CarryAway             787 non-null    object\n",
      " 17  RestaurantLessThan20  787 non-null    object\n",
      " 18  Restaurant20To50      782 non-null    object\n",
      " 19  toCoupon_GEQ15min     793 non-null    int64 \n",
      " 20  toCoupon_GEQ25min     793 non-null    int64 \n",
      " 21  direction_same        793 non-null    int64 \n",
      " 22  direction_opp         793 non-null    int64 \n",
      " 23  Y                     793 non-null    int64 \n",
      "dtypes: int64(7), object(17)\n",
      "memory usage: 154.9+ KB\n",
      "   Y  percentage\n",
      "0  1     70.3657\n",
      "1  0     29.6343\n"
     ]
    }
   ],
   "source": [
    "# Let us look at the direction of the drive\n",
    "\n",
    "takeout_direction_same = takeout.query('direction_same == 1')\n",
    "takeout_direction_same.info()\n",
    "\n",
    "takeout_direction_same_accept = (takeout_direction_same['Y'].value_counts(normalize=True)\n",
    "                .mul(100)\n",
    "                .rename_axis('Y')\n",
    "                .reset_index(name='percentage'))\n",
    "print(takeout_direction_same_accept)"
   ]
  },
  {
   "cell_type": "code",
   "execution_count": 74,
   "id": "c398c3e9",
   "metadata": {},
   "outputs": [
    {
     "name": "stdout",
     "output_type": "stream",
     "text": [
      "<class 'pandas.core.frame.DataFrame'>\n",
      "Int64Index: 1600 entries, 2 to 12680\n",
      "Data columns (total 24 columns):\n",
      " #   Column                Non-Null Count  Dtype \n",
      "---  ------                --------------  ----- \n",
      " 0   destination           1600 non-null   object\n",
      " 1   passenger             1600 non-null   object\n",
      " 2   weather               1600 non-null   object\n",
      " 3   temperature           1600 non-null   int64 \n",
      " 4   time                  1600 non-null   object\n",
      " 5   coupon                1600 non-null   object\n",
      " 6   expiration            1600 non-null   object\n",
      " 7   gender                1600 non-null   object\n",
      " 8   age                   1600 non-null   object\n",
      " 9   maritalStatus         1600 non-null   object\n",
      " 10  has_children          1600 non-null   int64 \n",
      " 11  education             1600 non-null   object\n",
      " 12  occupation            1600 non-null   object\n",
      " 13  income                1600 non-null   object\n",
      " 14  Bar                   1588 non-null   object\n",
      " 15  CoffeeHouse           1577 non-null   object\n",
      " 16  CarryAway             1584 non-null   object\n",
      " 17  RestaurantLessThan20  1588 non-null   object\n",
      " 18  Restaurant20To50      1578 non-null   object\n",
      " 19  toCoupon_GEQ15min     1600 non-null   int64 \n",
      " 20  toCoupon_GEQ25min     1600 non-null   int64 \n",
      " 21  direction_same        1600 non-null   int64 \n",
      " 22  direction_opp         1600 non-null   int64 \n",
      " 23  Y                     1600 non-null   int64 \n",
      "dtypes: int64(7), object(17)\n",
      "memory usage: 312.5+ KB\n",
      "   Y  percentage\n",
      "0  1      75.125\n",
      "1  0      24.875\n"
     ]
    }
   ],
   "source": [
    "# Driver acceptance was 70% of carryout coupons if driving in the same direction.\n",
    "# Now let ius look at drivers driving in opposite direction\n",
    "\n",
    "takeout_direction_opp = takeout.query('direction_opp == 1')\n",
    "takeout_direction_opp.info()\n",
    "\n",
    "takeout_direction_opp_accept = (takeout_direction_opp['Y'].value_counts(normalize=True)\n",
    "                .mul(100)\n",
    "                .rename_axis('Y')\n",
    "                .reset_index(name='percentage'))\n",
    "print(takeout_direction_opp_accept)\n"
   ]
  },
  {
   "cell_type": "markdown",
   "id": "de252ecd",
   "metadata": {},
   "source": [
    "### Driver acceptance was 75% of carryout coupons if driving in the opposite direction which is higher than 70% acceptance in the same direction and this is counterintuitive. \n",
    "### This specific data may be incorrect or drivers don't mind turning around if the deal is good."
   ]
  },
  {
   "cell_type": "code",
   "execution_count": 104,
   "id": "7b287ebc",
   "metadata": {
    "scrolled": true
   },
   "outputs": [
    {
     "data": {
      "image/png": "[encoded data removed]",
      "text/plain": [
       "<Figure size 1500x600 with 1 Axes>"
      ]
     },
     "metadata": {},
     "output_type": "display_data"
    }
   ],
   "source": [
    "# Let us review some count plots across various coupon types and individual variables\n",
    "#Here we look at Income and acceptance rate\n",
    "\n",
    "fig = sns.countplot(data =dfrenamed, order =['Less than $12500','$12500 - $24999','$25000 - $37499','$37500 - $49999',\n",
    "                                             '$50000 - $62499','$62500 - $74999','$75000 - $87499','$87500 - $99999',\n",
    "                                             '$100000 or More'],x=\"income\", hue ='Y')\n",
    "sns.set(rc = {'figure.figsize':(15,10)})\n",
    "plt.xlabel(\"Income\", fontsize= 15)\n",
    "plt.ylabel(\"Count\", fontsize= 15)\n",
    "plt.title(\"Coupon Totals\", fontsize= 20)\n",
    "fig.set_xticklabels(fig.get_xticklabels(), rotation=0 , fontsize = 9)\n",
    "plt.savefig('C:/Users/ronny/Desktop/PracticalApplication1/images/income_coupon_accept.png')\n",
    "plt.show()\n",
    "\n",
    "\n",
    "\n",
    "\n"
   ]
  },
  {
   "cell_type": "markdown",
   "id": "86a951cf",
   "metadata": {},
   "source": [
    "### Overall lower incomes have higher acceptance across all the areas until you make USD 62,500 For the next three income brands acceptance rate is about the same.The only outlier is if the income is USD 100,000 or more"
   ]
  },
  {
   "cell_type": "code",
   "execution_count": 103,
   "id": "a1fd29d9",
   "metadata": {},
   "outputs": [
    {
     "data": {
      "image/png": "[encoded data removed]",
      "text/plain": [
       "<Figure size 1500x600 with 1 Axes>"
      ]
     },
     "metadata": {},
     "output_type": "display_data"
    }
   ],
   "source": [
    "# Let us review some count plots across various coupon types and individual variables\n",
    "#Here we look at Gender and acceptance rate\n",
    "\n",
    "fig = sns.countplot(data =dfrenamed,x=\"gender\", hue ='Y')\n",
    "sns.set(rc = {'figure.figsize':(15,6)})\n",
    "plt.xlabel(\"Gender\", fontsize= 15)\n",
    "plt.ylabel(\"Count\", fontsize= 15)\n",
    "plt.title(\"Coupon Totals\", fontsize= 20)\n",
    "\n",
    "\n",
    "plt.savefig('C:/Users/ronny/Desktop/PracticalApplication1/images/gender_coupon_accept.png')\n",
    "plt.show()"
   ]
  },
  {
   "cell_type": "code",
   "execution_count": 86,
   "id": "4207e87e",
   "metadata": {},
   "outputs": [
    {
     "name": "stdout",
     "output_type": "stream",
     "text": [
      "   Gender  percentage\n",
      "0  Female   51.332387\n",
      "1    Male   48.667613\n"
     ]
    }
   ],
   "source": [
    "# We see there is more rejection of coupons by females but we need to look at the data set too\n",
    "gender_counts = (dfrenamed['gender'].value_counts(normalize=True)\n",
    "                .mul(100)\n",
    "                .rename_axis('Gender')\n",
    "                .reset_index(name='percentage'))\n",
    "print(gender_counts)\n"
   ]
  },
  {
   "cell_type": "markdown",
   "id": "d29e66ae",
   "metadata": {},
   "source": [
    "### We find that the data set is slightly more female but that would not account for the difference we see in the higher acceptance by males."
   ]
  },
  {
   "cell_type": "code",
   "execution_count": 99,
   "id": "25204085",
   "metadata": {},
   "outputs": [
    {
     "data": {
      "image/png": "[encoded data removed]",
      "text/plain": [
       "<Figure size 1500x600 with 1 Axes>"
      ]
     },
     "metadata": {},
     "output_type": "display_data"
    }
   ],
   "source": [
    "# Let us review some count plots across various coupon types and individual variables\n",
    "#Here we look at weather and acceptance rate\n",
    "\n",
    "fig = sns.countplot(data =dfrenamed,x=\"weather\", hue ='Y')\n",
    "sns.set(rc = {'figure.figsize':(15,6)})\n",
    "plt.xlabel(\"Weather\", fontsize= 15)\n",
    "plt.ylabel(\"Count\", fontsize= 15)\n",
    "plt.title(\"Coupon Totals\", fontsize= 20)\n",
    "plt.savefig('C:/Users/ronny/Desktop/PracticalApplication1/images/weather_coupon_accept.png')\n",
    "plt.show()"
   ]
  },
  {
   "cell_type": "markdown",
   "id": "b940989e",
   "metadata": {},
   "source": [
    "### When the day is sunny,more coupons are accepted than rejected and more coupons are rejected than accepted on rainy and snowy days"
   ]
  },
  {
   "cell_type": "code",
   "execution_count": 98,
   "id": "9e463f76",
   "metadata": {},
   "outputs": [
    {
     "data": {
      "image/png": "[encoded data removed]",
      "text/plain": [
       "<Figure size 1500x600 with 1 Axes>"
      ]
     },
     "metadata": {},
     "output_type": "display_data"
    },
    {
     "name": "stdout",
     "output_type": "stream",
     "text": [
      "       Martal Status  percentage\n",
      "0    Married partner   40.208136\n",
      "1             Single   37.464522\n",
      "2  Unmarried partner   17.234311\n",
      "3           Divorced    4.068117\n",
      "4            Widowed    1.024913\n"
     ]
    }
   ],
   "source": [
    "# Let us review some count plots across various coupon types and individual variables\n",
    "#Here we look at martial status and acceptance rate\n",
    "\n",
    "fig = sns.countplot(data =dfrenamed,x=\"maritalStatus\", hue ='Y')\n",
    "sns.set(rc = {'figure.figsize':(15,6)})\n",
    "plt.xlabel(\"Marital Status\", fontsize= 15)\n",
    "plt.ylabel(\"Count\", fontsize= 15)\n",
    "plt.title(\"Coupon Totals\", fontsize= 20)\n",
    "plt.savefig('C:/Users/ronny/Desktop/PracticalApplication1/images/marital_status_coupon_accept.png')\n",
    "plt.show()\n",
    "\n",
    "# What is the distribution of marital status across the data set?\n",
    "marital_status = (dfrenamed['maritalStatus'].value_counts(normalize=True)\n",
    "                .mul(100)\n",
    "                .rename_axis('Martal Status')\n",
    "                .reset_index(name='percentage'))\n",
    "print(marital_status)\n",
    "\n"
   ]
  },
  {
   "cell_type": "markdown",
   "id": "43807523",
   "metadata": {},
   "source": [
    "### About 78% of the data set consists of Single and Married partner Marital status."
   ]
  },
  {
   "cell_type": "code",
   "execution_count": 89,
   "id": "83959a1f",
   "metadata": {},
   "outputs": [
    {
     "name": "stdout",
     "output_type": "stream",
     "text": [
      "<class 'pandas.core.frame.DataFrame'>\n",
      "Int64Index: 9852 entries, 22 to 12683\n",
      "Data columns (total 24 columns):\n",
      " #   Column                Non-Null Count  Dtype \n",
      "---  ------                --------------  ----- \n",
      " 0   destination           9852 non-null   object\n",
      " 1   passenger             9852 non-null   object\n",
      " 2   weather               9852 non-null   object\n",
      " 3   temperature           9852 non-null   int64 \n",
      " 4   time                  9852 non-null   object\n",
      " 5   coupon                9852 non-null   object\n",
      " 6   expiration            9852 non-null   object\n",
      " 7   gender                9852 non-null   object\n",
      " 8   age                   9852 non-null   object\n",
      " 9   maritalStatus         9852 non-null   object\n",
      " 10  has_children          9852 non-null   int64 \n",
      " 11  education             9852 non-null   object\n",
      " 12  occupation            9852 non-null   object\n",
      " 13  income                9852 non-null   object\n",
      " 14  Bar                   9763 non-null   object\n",
      " 15  CoffeeHouse           9697 non-null   object\n",
      " 16  CarryAway             9741 non-null   object\n",
      " 17  RestaurantLessThan20  9806 non-null   object\n",
      " 18  Restaurant20To50      9703 non-null   object\n",
      " 19  toCoupon_GEQ15min     9852 non-null   int64 \n",
      " 20  toCoupon_GEQ25min     9852 non-null   int64 \n",
      " 21  direction_same        9852 non-null   int64 \n",
      " 22  direction_opp         9852 non-null   int64 \n",
      " 23  Y                     9852 non-null   int64 \n",
      "dtypes: int64(7), object(17)\n",
      "memory usage: 1.9+ MB\n",
      "   Y  percentage\n",
      "0  1   57.328461\n",
      "1  0   42.671539\n"
     ]
    }
   ],
   "source": [
    "marital_subset= dfrenamed.query('maritalStatus in [\"Single\", \"Married partner\"]')\n",
    "marital_subset.info()\n",
    "\n",
    "marital_subset_accept = (marital_subset['Y'].value_counts(normalize=True)\n",
    "                .mul(100)\n",
    "                .rename_axis('Y')\n",
    "                .reset_index(name='percentage'))\n",
    "print(marital_subset_accept)\n",
    "\n"
   ]
  },
  {
   "cell_type": "markdown",
   "id": "d13a3935",
   "metadata": {},
   "source": [
    "### We see that 57% of Single and Married Partner categories accepted the coupons"
   ]
  },
  {
   "cell_type": "code",
   "execution_count": 97,
   "id": "444a1e4b",
   "metadata": {},
   "outputs": [
    {
     "data": {
      "image/png": "[encoded data removed]",
      "text/plain": [
       "<Figure size 1500x600 with 1 Axes>"
      ]
     },
     "metadata": {},
     "output_type": "display_data"
    }
   ],
   "source": [
    "# Let us review some count plots across various coupon types and individual variables\n",
    "#Here we look at age and acceptance rate\n",
    "\n",
    "fig = sns.countplot(data =dfrenamed,x=\"age\", hue ='Y',order =['below21','21','26','31','36','41','46','50plus'])\n",
    "sns.set(rc = {'figure.figsize':(15,6)})\n",
    "plt.xlabel(\"Age\", fontsize= 15)\n",
    "plt.ylabel(\"Count\", fontsize= 15)\n",
    "plt.title(\"Coupon Totals\", fontsize= 20)\n",
    "plt.savefig('C:/Users/ronny/Desktop/PracticalApplication1/images/age_coupon_accept.png')\n",
    "plt.show()\n"
   ]
  },
  {
   "cell_type": "code",
   "execution_count": 91,
   "id": "e1f3d053",
   "metadata": {},
   "outputs": [
    {
     "name": "stdout",
     "output_type": "stream",
     "text": [
      "<class 'pandas.core.frame.DataFrame'>\n",
      "Int64Index: 5759 entries, 0 to 12683\n",
      "Data columns (total 24 columns):\n",
      " #   Column                Non-Null Count  Dtype \n",
      "---  ------                --------------  ----- \n",
      " 0   destination           5759 non-null   object\n",
      " 1   passenger             5759 non-null   object\n",
      " 2   weather               5759 non-null   object\n",
      " 3   temperature           5759 non-null   int64 \n",
      " 4   time                  5759 non-null   object\n",
      " 5   coupon                5759 non-null   object\n",
      " 6   expiration            5759 non-null   object\n",
      " 7   gender                5759 non-null   object\n",
      " 8   age                   5759 non-null   object\n",
      " 9   maritalStatus         5759 non-null   object\n",
      " 10  has_children          5759 non-null   int64 \n",
      " 11  education             5759 non-null   object\n",
      " 12  occupation            5759 non-null   object\n",
      " 13  income                5759 non-null   object\n",
      " 14  Bar                   5741 non-null   object\n",
      " 15  CoffeeHouse           5631 non-null   object\n",
      " 16  CarryAway             5654 non-null   object\n",
      " 17  RestaurantLessThan20  5697 non-null   object\n",
      " 18  Restaurant20To50      5681 non-null   object\n",
      " 19  toCoupon_GEQ15min     5759 non-null   int64 \n",
      " 20  toCoupon_GEQ25min     5759 non-null   int64 \n",
      " 21  direction_same        5759 non-null   int64 \n",
      " 22  direction_opp         5759 non-null   int64 \n",
      " 23  Y                     5759 non-null   int64 \n",
      "dtypes: int64(7), object(17)\n",
      "memory usage: 1.1+ MB\n",
      "   Y  percentage\n",
      "0  1   60.062511\n",
      "1  0   39.937489\n"
     ]
    }
   ],
   "source": [
    "# Younger demographics accept more coupons. After age 36, the acceptance and rejections are about the same.\n",
    "\n",
    "age_under_30 = dfrenamed.query('age not in [\"31\",\"36\",\"41\", \"46\", \"50plus\"]')\n",
    "age_under_30.info()\n",
    "\n",
    "age_under_30_accept = (age_under_30['Y'].value_counts(normalize=True)\n",
    "                .mul(100)\n",
    "                .rename_axis('Y')\n",
    "                .reset_index(name='percentage'))\n",
    "print(age_under_30_accept)"
   ]
  },
  {
   "cell_type": "markdown",
   "id": "0bf8c728",
   "metadata": {},
   "source": [
    "### Persons under the age of 30 accept coupons 60% of the time"
   ]
  },
  {
   "cell_type": "code",
   "execution_count": 96,
   "id": "7e10328b",
   "metadata": {},
   "outputs": [
    {
     "data": {
      "image/png": "[encoded data removed]",
      "text/plain": [
       "<Figure size 1500x600 with 1 Axes>"
      ]
     },
     "metadata": {},
     "output_type": "display_data"
    }
   ],
   "source": [
    "# Let us review some count plots across various coupon types and individual variables\n",
    "#Here we look at destination and acceptance rate\n",
    "\n",
    "fig = sns.countplot(data =dfrenamed,x=\"destination\", hue ='Y')\n",
    "sns.set(rc = {'figure.figsize':(15,6)})\n",
    "plt.xlabel(\"Destination\", fontsize= 15)\n",
    "plt.ylabel(\"Count\", fontsize= 15)\n",
    "plt.title(\"Coupon Totals\", fontsize= 20)\n",
    "plt.savefig('C:/Users/ronny/Desktop/PracticalApplication1/images/destination_coupon_accept.png')\n",
    "plt.show()"
   ]
  },
  {
   "cell_type": "markdown",
   "id": "399fd80f",
   "metadata": {},
   "source": [
    "### When folks were not in a rush to get to work or home, they accepted more coupons"
   ]
  },
  {
   "cell_type": "code",
   "execution_count": 95,
   "id": "71773b13",
   "metadata": {
    "scrolled": true
   },
   "outputs": [
    {
     "data": {
      "image/png": "[encoded data removed]",
      "text/plain": [
       "<Figure size 1500x600 with 1 Axes>"
      ]
     },
     "metadata": {},
     "output_type": "display_data"
    }
   ],
   "source": [
    "# Let us review some count plots across various coupon types and individual variables\n",
    "#Here we look at time and acceptance rate\n",
    "\n",
    "fig = sns.countplot(data =dfrenamed,x=\"time\", hue ='Y',order =['7AM','10AM','2PM','6PM','10PM'])\n",
    "sns.set(rc = {'figure.figsize':(15,6)})\n",
    "plt.xlabel(\"Time of Day\", fontsize= 15)\n",
    "plt.ylabel(\"Count\", fontsize= 15)\n",
    "plt.title(\"Coupon Totals\", fontsize= 20)\n",
    "plt.savefig('C:/Users/ronny/Desktop/PracticalApplication1/images/timeofday_coupon_accept.png')\n",
    "plt.show()"
   ]
  },
  {
   "cell_type": "code",
   "execution_count": 105,
   "id": "496b520a",
   "metadata": {},
   "outputs": [
    {
     "data": {
      "image/png": "[encoded data removed]",
      "text/plain": [
       "<Figure size 1500x1000 with 1 Axes>"
      ]
     },
     "metadata": {},
     "output_type": "display_data"
    }
   ],
   "source": [
    "# Let us review some count plots across various coupon types and individual variables\n",
    "#Here we look at time and acceptance rate by coupon type\n",
    "\n",
    "fig = sns.countplot(data =dfrenamed,x=\"time\", hue ='coupon',order =['7AM','10AM','2PM','6PM','10PM'])\n",
    "sns.set(rc = {'figure.figsize':(15,6)})\n",
    "plt.xlabel(\"Time of Day by Copupon Type\", fontsize= 15)\n",
    "plt.ylabel(\"Count\", fontsize= 15)\n",
    "plt.title(\"Coupon Totals\", fontsize= 20)\n",
    "plt.savefig('C:/Users/ronny/Desktop/PracticalApplication1/images/time_coupon_type.png')\n",
    "plt.show()"
   ]
  },
  {
   "cell_type": "markdown",
   "id": "2f7d2561",
   "metadata": {},
   "source": [
    "### Some of the coupons data do not make sense. It is pointless to send a bar coupon or fine restaurant before lunch unless it has a 1 day expiry"
   ]
  },
  {
   "cell_type": "code",
   "execution_count": 106,
   "id": "89017654",
   "metadata": {},
   "outputs": [
    {
     "data": {
      "image/png": "[encoded data removed]",
      "text/plain": [
       "<Figure size 1500x600 with 1 Axes>"
      ]
     },
     "metadata": {},
     "output_type": "display_data"
    }
   ],
   "source": [
    "# Let us review some count plots across various coupon types and individual variables\n",
    "#Here we look at expiration  and acceptance rate by coupon type\n",
    "\n",
    "fig = sns.countplot(data =dfrenamed,x= \"expiration\", hue ='Y', order =['2h','1d'])\n",
    "sns.set(rc = {'figure.figsize':(15,6)})\n",
    "plt.xlabel(\"Expiration\", fontsize= 15)\n",
    "plt.ylabel(\"Count\", fontsize= 15)\n",
    "plt.title(\"Coupon Totals\", fontsize= 20)\n",
    "plt.savefig('C:/Users/ronny/Desktop/PracticalApplication1/images/expiration_coupon_accept.png')\n",
    "plt.show()"
   ]
  },
  {
   "cell_type": "markdown",
   "id": "87c6d99e",
   "metadata": {},
   "source": [
    "### Coupons will longer validity are accepted more"
   ]
  },
  {
   "cell_type": "code",
   "execution_count": 107,
   "id": "eae87bc5",
   "metadata": {},
   "outputs": [
    {
     "data": {
      "image/png": "[encoded data removed]",
      "text/plain": [
       "<Figure size 1500x600 with 1 Axes>"
      ]
     },
     "metadata": {},
     "output_type": "display_data"
    }
   ],
   "source": [
    "# Let us review some count plots across various coupon types and individual variables\n",
    "#Here we look at coupon type  and acceptance rate by coupon type\n",
    "\n",
    "fig = sns.countplot(data =dfrenamed,x= \"coupon\", hue ='Y', order =['Coffee House','Restaurant(<20)','Carry out & Take away','Bar','Restaurant(20-50)'])\n",
    "sns.set(rc = {'figure.figsize':(15,6)})\n",
    "plt.xlabel(\"Type of coupon\", fontsize= 15)\n",
    "plt.ylabel(\"Count\", fontsize= 15)\n",
    "plt.title(\"Coupon Totals\", fontsize= 20)\n",
    "plt.savefig('C:/Users/ronny/Desktop/PracticalApplication1/images/coupon_type_accept.png')\n",
    "plt.show()"
   ]
  },
  {
   "cell_type": "markdown",
   "id": "3af72004",
   "metadata": {},
   "source": [
    "### Cheap restaurants and Carry out has the highest acceptance rate.\n",
    "### Coffee House and Cheap Restaurants total acceptance is about the same with carry out next. \n",
    "### As expected, bars and expensive restaurants have lower number of coupons offered and rejection rates are higher"
   ]
  },
  {
   "cell_type": "markdown",
   "id": "009abfee",
   "metadata": {},
   "source": [
    "### Recommendations:\n",
    "### Keep offering coupons for Coffee House between the hours of 6 AM and 3PM\n",
    "### Increase offering of Cheap Restaurants between 10 am and 10PM\n",
    "### Increase offering of Carry out coupons between 10am and 10PM\n",
    "### Bar and Expensive restaurant coupons should be offered between 6pm and 10PM irrespective of 2h expiry or 1 day expiry\n",
    "### For Takeout coupons do not target a specific demographic\n",
    "### For Expensive restaurant, target a higher income bracket\n",
    "### For Coffee House, target a younger demographic\n",
    "### For cheap restaurant target those with kids and lower income groups\n"
   ]
  },
  {
   "cell_type": "code",
   "execution_count": null,
   "id": "db8992ad",
   "metadata": {},
   "outputs": [],
   "source": []
  }
 ],
 "metadata": {
  "kernelspec": {
   "display_name": "Python 3 (ipykernel)",
   "language": "python",
   "name": "python3"
  },
  "language_info": {
   "codemirror_mode": {
    "name": "ipython",
    "version": 3
   },
   "file_extension": ".py",
   "mimetype": "text/x-python",
   "name": "python",
   "nbconvert_exporter": "python",
   "pygments_lexer": "ipython3",
   "version": "3.9.13"
  }
 },
 "nbformat": 4,
 "nbformat_minor": 5
}
